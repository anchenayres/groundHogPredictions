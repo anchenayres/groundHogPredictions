{
  "cells": [
    {
      "cell_type": "markdown",
      "id": "14da0d36-5122-4179-a769-d71324a32502",
      "metadata": {
        "id": "14da0d36-5122-4179-a769-d71324a32502"
      },
      "source": [
        "!! Purpose is to notice trends within the temperatures and the shadow of the Punxsutawney Phil to see if it can predict the temperature in February. If it's going to be winter or summer !!"
      ]
    },
    {
      "cell_type": "markdown",
      "source": [
        "# 1. Data Preprocessing"
      ],
      "metadata": {
        "id": "Z2yQz4ZxqzoU"
      },
      "id": "Z2yQz4ZxqzoU"
    },
    {
      "cell_type": "code",
      "execution_count": 9,
      "id": "70b63097-451f-4002-8dfb-185d790cfc55",
      "metadata": {
        "id": "70b63097-451f-4002-8dfb-185d790cfc55"
      },
      "outputs": [],
      "source": [
        "import pandas as pd\n",
        "import numpy as np"
      ]
    },
    {
      "cell_type": "code",
      "execution_count": null,
      "id": "ead6d8a9-ab50-440f-9feb-dbdb20c75ae5",
      "metadata": {
        "id": "ead6d8a9-ab50-440f-9feb-dbdb20c75ae5"
      },
      "outputs": [],
      "source": [
        "data = pd.read_csv('archive.csv')"
      ]
    },
    {
      "cell_type": "markdown",
      "id": "e1c7db81-ebcb-4c2f-8359-ef0c7e9b4d9f",
      "metadata": {
        "id": "e1c7db81-ebcb-4c2f-8359-ef0c7e9b4d9f"
      },
      "source": [
        "1. To get all the data"
      ]
    },
    {
      "cell_type": "code",
      "execution_count": null,
      "id": "2988ae1c-9a49-458b-bc56-a507cb7af7ee",
      "metadata": {
        "scrolled": true,
        "id": "2988ae1c-9a49-458b-bc56-a507cb7af7ee",
        "outputId": "89225bd1-b928-4aa4-b854-e81936509607"
      },
      "outputs": [
        {
          "data": {
            "text/html": [
              "<div>\n",
              "<style scoped>\n",
              "    .dataframe tbody tr th:only-of-type {\n",
              "        vertical-align: middle;\n",
              "    }\n",
              "\n",
              "    .dataframe tbody tr th {\n",
              "        vertical-align: top;\n",
              "    }\n",
              "\n",
              "    .dataframe thead th {\n",
              "        text-align: right;\n",
              "    }\n",
              "</style>\n",
              "<table border=\"1\" class=\"dataframe\">\n",
              "  <thead>\n",
              "    <tr style=\"text-align: right;\">\n",
              "      <th></th>\n",
              "      <th>Year</th>\n",
              "      <th>Punxsutawney Phil</th>\n",
              "      <th>February Average Temperature</th>\n",
              "      <th>February Average Temperature (Northeast)</th>\n",
              "      <th>February Average Temperature (Midwest)</th>\n",
              "      <th>February Average Temperature (Pennsylvania)</th>\n",
              "      <th>March Average Temperature</th>\n",
              "      <th>March Average Temperature (Northeast)</th>\n",
              "      <th>March Average Temperature (Midwest)</th>\n",
              "      <th>March Average Temperature (Pennsylvania)</th>\n",
              "    </tr>\n",
              "  </thead>\n",
              "  <tbody>\n",
              "    <tr>\n",
              "      <th>0</th>\n",
              "      <td>1886</td>\n",
              "      <td>No Record</td>\n",
              "      <td>NaN</td>\n",
              "      <td>NaN</td>\n",
              "      <td>NaN</td>\n",
              "      <td>NaN</td>\n",
              "      <td>NaN</td>\n",
              "      <td>NaN</td>\n",
              "      <td>NaN</td>\n",
              "      <td>NaN</td>\n",
              "    </tr>\n",
              "    <tr>\n",
              "      <th>1</th>\n",
              "      <td>1887</td>\n",
              "      <td>Full Shadow</td>\n",
              "      <td>NaN</td>\n",
              "      <td>NaN</td>\n",
              "      <td>NaN</td>\n",
              "      <td>NaN</td>\n",
              "      <td>NaN</td>\n",
              "      <td>NaN</td>\n",
              "      <td>NaN</td>\n",
              "      <td>NaN</td>\n",
              "    </tr>\n",
              "    <tr>\n",
              "      <th>2</th>\n",
              "      <td>1888</td>\n",
              "      <td>Full Shadow</td>\n",
              "      <td>NaN</td>\n",
              "      <td>NaN</td>\n",
              "      <td>NaN</td>\n",
              "      <td>NaN</td>\n",
              "      <td>NaN</td>\n",
              "      <td>NaN</td>\n",
              "      <td>NaN</td>\n",
              "      <td>NaN</td>\n",
              "    </tr>\n",
              "    <tr>\n",
              "      <th>3</th>\n",
              "      <td>1889</td>\n",
              "      <td>No Record</td>\n",
              "      <td>NaN</td>\n",
              "      <td>NaN</td>\n",
              "      <td>NaN</td>\n",
              "      <td>NaN</td>\n",
              "      <td>NaN</td>\n",
              "      <td>NaN</td>\n",
              "      <td>NaN</td>\n",
              "      <td>NaN</td>\n",
              "    </tr>\n",
              "    <tr>\n",
              "      <th>4</th>\n",
              "      <td>1890</td>\n",
              "      <td>No Shadow</td>\n",
              "      <td>NaN</td>\n",
              "      <td>NaN</td>\n",
              "      <td>NaN</td>\n",
              "      <td>NaN</td>\n",
              "      <td>NaN</td>\n",
              "      <td>NaN</td>\n",
              "      <td>NaN</td>\n",
              "      <td>NaN</td>\n",
              "    </tr>\n",
              "    <tr>\n",
              "      <th>...</th>\n",
              "      <td>...</td>\n",
              "      <td>...</td>\n",
              "      <td>...</td>\n",
              "      <td>...</td>\n",
              "      <td>...</td>\n",
              "      <td>...</td>\n",
              "      <td>...</td>\n",
              "      <td>...</td>\n",
              "      <td>...</td>\n",
              "      <td>...</td>\n",
              "    </tr>\n",
              "    <tr>\n",
              "      <th>127</th>\n",
              "      <td>2013</td>\n",
              "      <td>No Shadow</td>\n",
              "      <td>34.77</td>\n",
              "      <td>25.3</td>\n",
              "      <td>33.4</td>\n",
              "      <td>27.4</td>\n",
              "      <td>40.91</td>\n",
              "      <td>32.7</td>\n",
              "      <td>37.3</td>\n",
              "      <td>33.9</td>\n",
              "    </tr>\n",
              "    <tr>\n",
              "      <th>128</th>\n",
              "      <td>2014</td>\n",
              "      <td>Full Shadow</td>\n",
              "      <td>32.13</td>\n",
              "      <td>21.0</td>\n",
              "      <td>27.1</td>\n",
              "      <td>22.8</td>\n",
              "      <td>40.51</td>\n",
              "      <td>26.0</td>\n",
              "      <td>38.0</td>\n",
              "      <td>30.3</td>\n",
              "    </tr>\n",
              "    <tr>\n",
              "      <th>129</th>\n",
              "      <td>2015</td>\n",
              "      <td>Full Shadow</td>\n",
              "      <td>32.99</td>\n",
              "      <td>12.1</td>\n",
              "      <td>23.4</td>\n",
              "      <td>16.1</td>\n",
              "      <td>45.39</td>\n",
              "      <td>27.8</td>\n",
              "      <td>41.6</td>\n",
              "      <td>31.6</td>\n",
              "    </tr>\n",
              "    <tr>\n",
              "      <th>130</th>\n",
              "      <td>2016</td>\n",
              "      <td>No Shadow</td>\n",
              "      <td>39.47</td>\n",
              "      <td>28.1</td>\n",
              "      <td>36.9</td>\n",
              "      <td>30.8</td>\n",
              "      <td>47.50</td>\n",
              "      <td>38.8</td>\n",
              "      <td>49.5</td>\n",
              "      <td>43.4</td>\n",
              "    </tr>\n",
              "    <tr>\n",
              "      <th>131</th>\n",
              "      <td>1901-2000</td>\n",
              "      <td>NaN</td>\n",
              "      <td>33.82</td>\n",
              "      <td>22.5</td>\n",
              "      <td>32.9</td>\n",
              "      <td>26.5</td>\n",
              "      <td>41.50</td>\n",
              "      <td>32.3</td>\n",
              "      <td>42.4</td>\n",
              "      <td>35.9</td>\n",
              "    </tr>\n",
              "  </tbody>\n",
              "</table>\n",
              "<p>132 rows × 10 columns</p>\n",
              "</div>"
            ],
            "text/plain": [
              "          Year Punxsutawney Phil  February Average Temperature  \\\n",
              "0         1886         No Record                           NaN   \n",
              "1         1887       Full Shadow                           NaN   \n",
              "2         1888       Full Shadow                           NaN   \n",
              "3         1889         No Record                           NaN   \n",
              "4         1890         No Shadow                           NaN   \n",
              "..         ...               ...                           ...   \n",
              "127       2013         No Shadow                         34.77   \n",
              "128       2014       Full Shadow                         32.13   \n",
              "129       2015       Full Shadow                         32.99   \n",
              "130       2016         No Shadow                         39.47   \n",
              "131  1901-2000               NaN                         33.82   \n",
              "\n",
              "     February Average Temperature (Northeast)  \\\n",
              "0                                         NaN   \n",
              "1                                         NaN   \n",
              "2                                         NaN   \n",
              "3                                         NaN   \n",
              "4                                         NaN   \n",
              "..                                        ...   \n",
              "127                                      25.3   \n",
              "128                                      21.0   \n",
              "129                                      12.1   \n",
              "130                                      28.1   \n",
              "131                                      22.5   \n",
              "\n",
              "     February Average Temperature (Midwest)  \\\n",
              "0                                       NaN   \n",
              "1                                       NaN   \n",
              "2                                       NaN   \n",
              "3                                       NaN   \n",
              "4                                       NaN   \n",
              "..                                      ...   \n",
              "127                                    33.4   \n",
              "128                                    27.1   \n",
              "129                                    23.4   \n",
              "130                                    36.9   \n",
              "131                                    32.9   \n",
              "\n",
              "     February Average Temperature (Pennsylvania)  March Average Temperature  \\\n",
              "0                                            NaN                        NaN   \n",
              "1                                            NaN                        NaN   \n",
              "2                                            NaN                        NaN   \n",
              "3                                            NaN                        NaN   \n",
              "4                                            NaN                        NaN   \n",
              "..                                           ...                        ...   \n",
              "127                                         27.4                      40.91   \n",
              "128                                         22.8                      40.51   \n",
              "129                                         16.1                      45.39   \n",
              "130                                         30.8                      47.50   \n",
              "131                                         26.5                      41.50   \n",
              "\n",
              "     March Average Temperature (Northeast)  \\\n",
              "0                                      NaN   \n",
              "1                                      NaN   \n",
              "2                                      NaN   \n",
              "3                                      NaN   \n",
              "4                                      NaN   \n",
              "..                                     ...   \n",
              "127                                   32.7   \n",
              "128                                   26.0   \n",
              "129                                   27.8   \n",
              "130                                   38.8   \n",
              "131                                   32.3   \n",
              "\n",
              "     March Average Temperature (Midwest)  \\\n",
              "0                                    NaN   \n",
              "1                                    NaN   \n",
              "2                                    NaN   \n",
              "3                                    NaN   \n",
              "4                                    NaN   \n",
              "..                                   ...   \n",
              "127                                 37.3   \n",
              "128                                 38.0   \n",
              "129                                 41.6   \n",
              "130                                 49.5   \n",
              "131                                 42.4   \n",
              "\n",
              "     March Average Temperature (Pennsylvania)  \n",
              "0                                         NaN  \n",
              "1                                         NaN  \n",
              "2                                         NaN  \n",
              "3                                         NaN  \n",
              "4                                         NaN  \n",
              "..                                        ...  \n",
              "127                                      33.9  \n",
              "128                                      30.3  \n",
              "129                                      31.6  \n",
              "130                                      43.4  \n",
              "131                                      35.9  \n",
              "\n",
              "[132 rows x 10 columns]"
            ]
          },
          "execution_count": 6,
          "metadata": {},
          "output_type": "execute_result"
        }
      ],
      "source": [
        "data = pd.read_csv('archive.csv')\n",
        "data"
      ]
    },
    {
      "cell_type": "markdown",
      "id": "286f360e-29c3-40af-b5b5-cd25b93ae792",
      "metadata": {
        "id": "286f360e-29c3-40af-b5b5-cd25b93ae792"
      },
      "source": [
        "2. To view the first rows of dataset"
      ]
    },
    {
      "cell_type": "code",
      "execution_count": null,
      "id": "8b09f760-7d27-480c-ac29-560e43c3a11a",
      "metadata": {
        "id": "8b09f760-7d27-480c-ac29-560e43c3a11a",
        "outputId": "050d76d6-2e2d-41b8-e2f3-bffecebd0a66"
      },
      "outputs": [
        {
          "data": {
            "text/html": [
              "<div>\n",
              "<style scoped>\n",
              "    .dataframe tbody tr th:only-of-type {\n",
              "        vertical-align: middle;\n",
              "    }\n",
              "\n",
              "    .dataframe tbody tr th {\n",
              "        vertical-align: top;\n",
              "    }\n",
              "\n",
              "    .dataframe thead th {\n",
              "        text-align: right;\n",
              "    }\n",
              "</style>\n",
              "<table border=\"1\" class=\"dataframe\">\n",
              "  <thead>\n",
              "    <tr style=\"text-align: right;\">\n",
              "      <th></th>\n",
              "      <th>Year</th>\n",
              "      <th>Punxsutawney Phil</th>\n",
              "      <th>February Average Temperature</th>\n",
              "      <th>February Average Temperature (Northeast)</th>\n",
              "      <th>February Average Temperature (Midwest)</th>\n",
              "      <th>February Average Temperature (Pennsylvania)</th>\n",
              "      <th>March Average Temperature</th>\n",
              "      <th>March Average Temperature (Northeast)</th>\n",
              "      <th>March Average Temperature (Midwest)</th>\n",
              "      <th>March Average Temperature (Pennsylvania)</th>\n",
              "    </tr>\n",
              "  </thead>\n",
              "  <tbody>\n",
              "    <tr>\n",
              "      <th>0</th>\n",
              "      <td>1886</td>\n",
              "      <td>No Record</td>\n",
              "      <td>NaN</td>\n",
              "      <td>NaN</td>\n",
              "      <td>NaN</td>\n",
              "      <td>NaN</td>\n",
              "      <td>NaN</td>\n",
              "      <td>NaN</td>\n",
              "      <td>NaN</td>\n",
              "      <td>NaN</td>\n",
              "    </tr>\n",
              "    <tr>\n",
              "      <th>1</th>\n",
              "      <td>1887</td>\n",
              "      <td>Full Shadow</td>\n",
              "      <td>NaN</td>\n",
              "      <td>NaN</td>\n",
              "      <td>NaN</td>\n",
              "      <td>NaN</td>\n",
              "      <td>NaN</td>\n",
              "      <td>NaN</td>\n",
              "      <td>NaN</td>\n",
              "      <td>NaN</td>\n",
              "    </tr>\n",
              "    <tr>\n",
              "      <th>2</th>\n",
              "      <td>1888</td>\n",
              "      <td>Full Shadow</td>\n",
              "      <td>NaN</td>\n",
              "      <td>NaN</td>\n",
              "      <td>NaN</td>\n",
              "      <td>NaN</td>\n",
              "      <td>NaN</td>\n",
              "      <td>NaN</td>\n",
              "      <td>NaN</td>\n",
              "      <td>NaN</td>\n",
              "    </tr>\n",
              "    <tr>\n",
              "      <th>3</th>\n",
              "      <td>1889</td>\n",
              "      <td>No Record</td>\n",
              "      <td>NaN</td>\n",
              "      <td>NaN</td>\n",
              "      <td>NaN</td>\n",
              "      <td>NaN</td>\n",
              "      <td>NaN</td>\n",
              "      <td>NaN</td>\n",
              "      <td>NaN</td>\n",
              "      <td>NaN</td>\n",
              "    </tr>\n",
              "    <tr>\n",
              "      <th>4</th>\n",
              "      <td>1890</td>\n",
              "      <td>No Shadow</td>\n",
              "      <td>NaN</td>\n",
              "      <td>NaN</td>\n",
              "      <td>NaN</td>\n",
              "      <td>NaN</td>\n",
              "      <td>NaN</td>\n",
              "      <td>NaN</td>\n",
              "      <td>NaN</td>\n",
              "      <td>NaN</td>\n",
              "    </tr>\n",
              "  </tbody>\n",
              "</table>\n",
              "</div>"
            ],
            "text/plain": [
              "   Year Punxsutawney Phil  February Average Temperature  \\\n",
              "0  1886         No Record                           NaN   \n",
              "1  1887       Full Shadow                           NaN   \n",
              "2  1888       Full Shadow                           NaN   \n",
              "3  1889         No Record                           NaN   \n",
              "4  1890         No Shadow                           NaN   \n",
              "\n",
              "   February Average Temperature (Northeast)  \\\n",
              "0                                       NaN   \n",
              "1                                       NaN   \n",
              "2                                       NaN   \n",
              "3                                       NaN   \n",
              "4                                       NaN   \n",
              "\n",
              "   February Average Temperature (Midwest)  \\\n",
              "0                                     NaN   \n",
              "1                                     NaN   \n",
              "2                                     NaN   \n",
              "3                                     NaN   \n",
              "4                                     NaN   \n",
              "\n",
              "   February Average Temperature (Pennsylvania)  March Average Temperature  \\\n",
              "0                                          NaN                        NaN   \n",
              "1                                          NaN                        NaN   \n",
              "2                                          NaN                        NaN   \n",
              "3                                          NaN                        NaN   \n",
              "4                                          NaN                        NaN   \n",
              "\n",
              "   March Average Temperature (Northeast)  March Average Temperature (Midwest)  \\\n",
              "0                                    NaN                                  NaN   \n",
              "1                                    NaN                                  NaN   \n",
              "2                                    NaN                                  NaN   \n",
              "3                                    NaN                                  NaN   \n",
              "4                                    NaN                                  NaN   \n",
              "\n",
              "   March Average Temperature (Pennsylvania)  \n",
              "0                                       NaN  \n",
              "1                                       NaN  \n",
              "2                                       NaN  \n",
              "3                                       NaN  \n",
              "4                                       NaN  "
            ]
          },
          "execution_count": 11,
          "metadata": {},
          "output_type": "execute_result"
        }
      ],
      "source": [
        "data.head()"
      ]
    },
    {
      "cell_type": "code",
      "execution_count": null,
      "id": "6f676911-c9ad-48a1-8a05-5d82f1e24741",
      "metadata": {
        "id": "6f676911-c9ad-48a1-8a05-5d82f1e24741"
      },
      "outputs": [],
      "source": [
        "short = data[['Year', 'Punxsutawney Phil', 'February Average Temperature']]\n"
      ]
    },
    {
      "cell_type": "markdown",
      "id": "1e30203b-60fd-42fb-9945-07450213fdf2",
      "metadata": {
        "id": "1e30203b-60fd-42fb-9945-07450213fdf2"
      },
      "source": [
        "3. Filtering Dataframe"
      ]
    },
    {
      "cell_type": "code",
      "execution_count": null,
      "id": "38aebfba-c8fe-4354-a854-fb0a2d6e8d85",
      "metadata": {
        "id": "38aebfba-c8fe-4354-a854-fb0a2d6e8d85",
        "outputId": "17c27157-bda0-4b0c-b785-2ed0dc0b6b1e"
      },
      "outputs": [
        {
          "data": {
            "text/html": [
              "<div>\n",
              "<style scoped>\n",
              "    .dataframe tbody tr th:only-of-type {\n",
              "        vertical-align: middle;\n",
              "    }\n",
              "\n",
              "    .dataframe tbody tr th {\n",
              "        vertical-align: top;\n",
              "    }\n",
              "\n",
              "    .dataframe thead th {\n",
              "        text-align: right;\n",
              "    }\n",
              "</style>\n",
              "<table border=\"1\" class=\"dataframe\">\n",
              "  <thead>\n",
              "    <tr style=\"text-align: right;\">\n",
              "      <th></th>\n",
              "      <th>Year</th>\n",
              "      <th>Punxsutawney Phil</th>\n",
              "      <th>February Average Temperature</th>\n",
              "    </tr>\n",
              "  </thead>\n",
              "  <tbody>\n",
              "    <tr>\n",
              "      <th>12</th>\n",
              "      <td>1898</td>\n",
              "      <td>Full Shadow</td>\n",
              "      <td>35.37</td>\n",
              "    </tr>\n",
              "    <tr>\n",
              "      <th>14</th>\n",
              "      <td>1900</td>\n",
              "      <td>Full Shadow</td>\n",
              "      <td>30.76</td>\n",
              "    </tr>\n",
              "    <tr>\n",
              "      <th>15</th>\n",
              "      <td>1901</td>\n",
              "      <td>Full Shadow</td>\n",
              "      <td>29.86</td>\n",
              "    </tr>\n",
              "    <tr>\n",
              "      <th>17</th>\n",
              "      <td>1903</td>\n",
              "      <td>Full Shadow</td>\n",
              "      <td>28.42</td>\n",
              "    </tr>\n",
              "    <tr>\n",
              "      <th>18</th>\n",
              "      <td>1904</td>\n",
              "      <td>Full Shadow</td>\n",
              "      <td>31.59</td>\n",
              "    </tr>\n",
              "    <tr>\n",
              "      <th>...</th>\n",
              "      <td>...</td>\n",
              "      <td>...</td>\n",
              "      <td>...</td>\n",
              "    </tr>\n",
              "    <tr>\n",
              "      <th>126</th>\n",
              "      <td>2012</td>\n",
              "      <td>Full Shadow</td>\n",
              "      <td>37.51</td>\n",
              "    </tr>\n",
              "    <tr>\n",
              "      <th>127</th>\n",
              "      <td>2013</td>\n",
              "      <td>No Shadow</td>\n",
              "      <td>34.77</td>\n",
              "    </tr>\n",
              "    <tr>\n",
              "      <th>128</th>\n",
              "      <td>2014</td>\n",
              "      <td>Full Shadow</td>\n",
              "      <td>32.13</td>\n",
              "    </tr>\n",
              "    <tr>\n",
              "      <th>129</th>\n",
              "      <td>2015</td>\n",
              "      <td>Full Shadow</td>\n",
              "      <td>32.99</td>\n",
              "    </tr>\n",
              "    <tr>\n",
              "      <th>130</th>\n",
              "      <td>2016</td>\n",
              "      <td>No Shadow</td>\n",
              "      <td>39.47</td>\n",
              "    </tr>\n",
              "  </tbody>\n",
              "</table>\n",
              "<p>116 rows × 3 columns</p>\n",
              "</div>"
            ],
            "text/plain": [
              "     Year Punxsutawney Phil  February Average Temperature\n",
              "12   1898       Full Shadow                         35.37\n",
              "14   1900       Full Shadow                         30.76\n",
              "15   1901       Full Shadow                         29.86\n",
              "17   1903       Full Shadow                         28.42\n",
              "18   1904       Full Shadow                         31.59\n",
              "..    ...               ...                           ...\n",
              "126  2012       Full Shadow                         37.51\n",
              "127  2013         No Shadow                         34.77\n",
              "128  2014       Full Shadow                         32.13\n",
              "129  2015       Full Shadow                         32.99\n",
              "130  2016         No Shadow                         39.47\n",
              "\n",
              "[116 rows x 3 columns]"
            ]
          },
          "execution_count": 13,
          "metadata": {},
          "output_type": "execute_result"
        }
      ],
      "source": [
        "short = short[short['Punxsutawney Phil'] != \"No Record\"]\n",
        "\n",
        "# Filter out rows with missing values in the 'FebAvgTemp' column\n",
        "short = short[short['February Average Temperature'].notnull()]\n",
        "\n",
        "# Remove the last row (assuming you want to remove the last row)\n",
        "short = short[:-1]\n",
        "\n",
        "# Rename the columns\n",
        "short.columns = ['Year', 'Punxsutawney Phil', 'February Average Temperature']\n",
        "\n",
        "# Display the resulting DataFrame\n",
        "short"
      ]
    },
    {
      "cell_type": "markdown",
      "id": "64d38f5c-f83c-4257-bb7b-75aee698c9a4",
      "metadata": {
        "id": "64d38f5c-f83c-4257-bb7b-75aee698c9a4"
      },
      "source": [
        "4. Graph Plotting, other three i can still do"
      ]
    },
    {
      "cell_type": "code",
      "execution_count": null,
      "id": "c427fd1c-3481-4aca-ac58-a7dc88c23aec",
      "metadata": {
        "id": "c427fd1c-3481-4aca-ac58-a7dc88c23aec",
        "outputId": "fddc2a47-9b8d-489f-b04f-a5da373a3553"
      },
      "outputs": [
        {
          "data": {
            "text/plain": [
              "<Axes: xlabel='Year'>"
            ]
          },
          "execution_count": 14,
          "metadata": {},
          "output_type": "execute_result"
        },
        {
          "data": {
            "image/png": "[encoded data removed]",
            "text/plain": [
              "<Figure size 640x480 with 1 Axes>"
            ]
          },
          "metadata": {},
          "output_type": "display_data"
        }
      ],
      "source": [
        "short.plot.bar(x = 'Year')"
      ]
    },
    {
      "cell_type": "markdown",
      "id": "92d07314-89c3-4376-8242-044ca27200c6",
      "metadata": {
        "id": "92d07314-89c3-4376-8242-044ca27200c6"
      },
      "source": [
        "5. PREDICTIONS CORRECT: Winter = 32 degrees and no shadow means an early spring, full shadow means 6 more weeks of winter. So here punx would be correct for all top coldest years => prediction lines up with temps that are deemed winter"
      ]
    },
    {
      "cell_type": "code",
      "execution_count": null,
      "id": "2cf3453f-bf1a-43c1-bbcb-780191ad1a0b",
      "metadata": {
        "id": "2cf3453f-bf1a-43c1-bbcb-780191ad1a0b",
        "outputId": "e696d984-6fbc-41da-c501-158fa85f8014"
      },
      "outputs": [
        {
          "data": {
            "text/html": [
              "<div>\n",
              "<style scoped>\n",
              "    .dataframe tbody tr th:only-of-type {\n",
              "        vertical-align: middle;\n",
              "    }\n",
              "\n",
              "    .dataframe tbody tr th {\n",
              "        vertical-align: top;\n",
              "    }\n",
              "\n",
              "    .dataframe thead th {\n",
              "        text-align: right;\n",
              "    }\n",
              "</style>\n",
              "<table border=\"1\" class=\"dataframe\">\n",
              "  <thead>\n",
              "    <tr style=\"text-align: right;\">\n",
              "      <th></th>\n",
              "      <th>Year</th>\n",
              "      <th>Punxsutawney Phil</th>\n",
              "      <th>February Average Temperature</th>\n",
              "    </tr>\n",
              "  </thead>\n",
              "  <tbody>\n",
              "    <tr>\n",
              "      <th>50</th>\n",
              "      <td>1936</td>\n",
              "      <td>Full Shadow</td>\n",
              "      <td>25.23</td>\n",
              "    </tr>\n",
              "    <tr>\n",
              "      <th>43</th>\n",
              "      <td>1929</td>\n",
              "      <td>Full Shadow</td>\n",
              "      <td>26.92</td>\n",
              "    </tr>\n",
              "    <tr>\n",
              "      <th>19</th>\n",
              "      <td>1905</td>\n",
              "      <td>Full Shadow</td>\n",
              "      <td>26.94</td>\n",
              "    </tr>\n",
              "    <tr>\n",
              "      <th>92</th>\n",
              "      <td>1978</td>\n",
              "      <td>Full Shadow</td>\n",
              "      <td>27.99</td>\n",
              "    </tr>\n",
              "    <tr>\n",
              "      <th>93</th>\n",
              "      <td>1979</td>\n",
              "      <td>Full Shadow</td>\n",
              "      <td>28.13</td>\n",
              "    </tr>\n",
              "  </tbody>\n",
              "</table>\n",
              "</div>"
            ],
            "text/plain": [
              "    Year Punxsutawney Phil  February Average Temperature\n",
              "50  1936       Full Shadow                         25.23\n",
              "43  1929       Full Shadow                         26.92\n",
              "19  1905       Full Shadow                         26.94\n",
              "92  1978       Full Shadow                         27.99\n",
              "93  1979       Full Shadow                         28.13"
            ]
          },
          "execution_count": 15,
          "metadata": {},
          "output_type": "execute_result"
        }
      ],
      "source": [
        "minVals = short.sort_values(by='February Average Temperature')\n",
        "minVals.head()"
      ]
    },
    {
      "cell_type": "markdown",
      "id": "b9ceffca-89aa-428a-b1bf-5b291f597a34",
      "metadata": {
        "id": "b9ceffca-89aa-428a-b1bf-5b291f597a34"
      },
      "source": [
        "6. PREDICTIONS: But here punx would be incorrect every year for the warmest years(should have had predicted no shadow."
      ]
    },
    {
      "cell_type": "code",
      "execution_count": null,
      "id": "f4cca0b9-2ec7-4e28-aa06-0aac76d701d9",
      "metadata": {
        "id": "f4cca0b9-2ec7-4e28-aa06-0aac76d701d9",
        "outputId": "0b58c55a-9488-4f9f-a4e0-8ba5dd49e6d4"
      },
      "outputs": [
        {
          "data": {
            "text/html": [
              "<div>\n",
              "<style scoped>\n",
              "    .dataframe tbody tr th:only-of-type {\n",
              "        vertical-align: middle;\n",
              "    }\n",
              "\n",
              "    .dataframe tbody tr th {\n",
              "        vertical-align: top;\n",
              "    }\n",
              "\n",
              "    .dataframe thead th {\n",
              "        text-align: right;\n",
              "    }\n",
              "</style>\n",
              "<table border=\"1\" class=\"dataframe\">\n",
              "  <thead>\n",
              "    <tr style=\"text-align: right;\">\n",
              "      <th></th>\n",
              "      <th>Year</th>\n",
              "      <th>Punxsutawney Phil</th>\n",
              "      <th>February Average Temperature</th>\n",
              "    </tr>\n",
              "  </thead>\n",
              "  <tbody>\n",
              "    <tr>\n",
              "      <th>68</th>\n",
              "      <td>1954</td>\n",
              "      <td>Full Shadow</td>\n",
              "      <td>41.41</td>\n",
              "    </tr>\n",
              "    <tr>\n",
              "      <th>44</th>\n",
              "      <td>1930</td>\n",
              "      <td>Full Shadow</td>\n",
              "      <td>40.10</td>\n",
              "    </tr>\n",
              "    <tr>\n",
              "      <th>105</th>\n",
              "      <td>1991</td>\n",
              "      <td>Full Shadow</td>\n",
              "      <td>39.81</td>\n",
              "    </tr>\n",
              "    <tr>\n",
              "      <th>114</th>\n",
              "      <td>2000</td>\n",
              "      <td>Full Shadow</td>\n",
              "      <td>39.78</td>\n",
              "    </tr>\n",
              "    <tr>\n",
              "      <th>106</th>\n",
              "      <td>1992</td>\n",
              "      <td>Full Shadow</td>\n",
              "      <td>39.70</td>\n",
              "    </tr>\n",
              "  </tbody>\n",
              "</table>\n",
              "</div>"
            ],
            "text/plain": [
              "     Year Punxsutawney Phil  February Average Temperature\n",
              "68   1954       Full Shadow                         41.41\n",
              "44   1930       Full Shadow                         40.10\n",
              "105  1991       Full Shadow                         39.81\n",
              "114  2000       Full Shadow                         39.78\n",
              "106  1992       Full Shadow                         39.70"
            ]
          },
          "execution_count": 16,
          "metadata": {},
          "output_type": "execute_result"
        }
      ],
      "source": [
        "maxVals = short.sort_values(by='February Average Temperature', ascending = False)\n",
        "maxVals.head()"
      ]
    },
    {
      "cell_type": "markdown",
      "source": [
        "Dependant = want we want to predict"
      ],
      "metadata": {
        "id": "E5BYk9YsklUC"
      },
      "id": "E5BYk9YsklUC"
    },
    {
      "cell_type": "code",
      "source": [
        "# extract all the independant values - values you want to the algorithm to check (year, phil)\n",
        "# dependant values are temperature\n",
        "# x refers to independant (what i want to check in prediction)"
      ],
      "metadata": {
        "id": "s-aNs__ZqgdM"
      },
      "id": "s-aNs__ZqgdM",
      "execution_count": null,
      "outputs": []
    },
    {
      "cell_type": "code",
      "source": [
        "import pandas as pd\n",
        "\n",
        "# Load your data from the \"archive.csv\" file\n",
        "short = pd.read_csv('archive1.csv')\n",
        "\n",
        "# Perform the preprocessing steps on the loaded data\n",
        "short = short[short['Punxsutawney Phil'] != \"No Record\"]\n",
        "short = short[short['February Average Temperature'].notnull()]\n",
        "short = short[:-1]\n",
        "short = short.rename(columns={'year': 'Year', 'Punxsutawney Phil': 'Punxsutawney Phil', 'February Average Temperature': 'February Average Temperature'})\n",
        "\n",
        "\n",
        "# Display the resulting DataFrame\n",
        "print(short)\n"
      ],
      "metadata": {
        "colab": {
          "base_uri": "https://localhost:8080/"
        },
        "id": "MkiKT_mASI7V",
        "outputId": "0e7a87c2-a762-4fd8-cb8e-c4ee305102f3"
      },
      "id": "MkiKT_mASI7V",
      "execution_count": 101,
      "outputs": [
        {
          "output_type": "stream",
          "name": "stdout",
          "text": [
            "     Year Punxsutawney Phil  February Average Temperature  \\\n",
            "12   1898       Full Shadow                         35.37   \n",
            "14   1900       Full Shadow                         30.76   \n",
            "15   1901       Full Shadow                         29.86   \n",
            "17   1903       Full Shadow                         28.42   \n",
            "18   1904       Full Shadow                         31.59   \n",
            "..    ...               ...                           ...   \n",
            "126  2012       Full Shadow                         37.51   \n",
            "127  2013         No Shadow                         34.77   \n",
            "128  2014       Full Shadow                         32.13   \n",
            "129  2015       Full Shadow                         32.99   \n",
            "130  2016         No Shadow                         39.47   \n",
            "\n",
            "     February Average Temperature (Northeast)  \\\n",
            "12                                       24.8   \n",
            "14                                       21.4   \n",
            "15                                       16.0   \n",
            "17                                       24.5   \n",
            "18                                       15.0   \n",
            "..                                        ...   \n",
            "126                                      30.6   \n",
            "127                                      25.3   \n",
            "128                                      21.0   \n",
            "129                                      12.1   \n",
            "130                                      28.1   \n",
            "\n",
            "     February Average Temperature (Midwest)  \\\n",
            "12                                     33.3   \n",
            "14                                     27.5   \n",
            "15                                     26.2   \n",
            "17                                     31.3   \n",
            "18                                     28.2   \n",
            "..                                      ...   \n",
            "126                                    38.6   \n",
            "127                                    33.4   \n",
            "128                                    27.1   \n",
            "129                                    23.4   \n",
            "130                                    36.9   \n",
            "\n",
            "     February Average Temperature (Pennsylvania)  March Average Temperature  \\\n",
            "12                                          26.7                      41.05   \n",
            "14                                          24.1                      41.27   \n",
            "15                                          18.9                      40.71   \n",
            "17                                          28.0                      42.21   \n",
            "18                                          19.2                      41.76   \n",
            "..                                           ...                        ...   \n",
            "126                                         34.3                      50.41   \n",
            "127                                         27.4                      40.91   \n",
            "128                                         22.8                      40.51   \n",
            "129                                         16.1                      45.39   \n",
            "130                                         30.8                      47.50   \n",
            "\n",
            "     March Average Temperature (Northeast)  \\\n",
            "12                                    38.0   \n",
            "14                                    26.0   \n",
            "15                                    30.8   \n",
            "17                                    40.4   \n",
            "18                                    29.8   \n",
            "..                                     ...   \n",
            "126                                   43.4   \n",
            "127                                   32.7   \n",
            "128                                   26.0   \n",
            "129                                   27.8   \n",
            "130                                   38.8   \n",
            "\n",
            "     March Average Temperature (Midwest)  \\\n",
            "12                                  46.0   \n",
            "14                                  37.9   \n",
            "15                                  41.9   \n",
            "17                                  47.7   \n",
            "18                                  42.8   \n",
            "..                                   ...   \n",
            "126                                 56.3   \n",
            "127                                 37.3   \n",
            "128                                 38.0   \n",
            "129                                 41.6   \n",
            "130                                 49.5   \n",
            "\n",
            "     March Average Temperature (Pennsylvania)  \n",
            "12                                       42.0  \n",
            "14                                       29.3  \n",
            "15                                       35.1  \n",
            "17                                       44.5  \n",
            "18                                       34.0  \n",
            "..                                        ...  \n",
            "126                                      47.7  \n",
            "127                                      33.9  \n",
            "128                                      30.3  \n",
            "129                                      31.6  \n",
            "130                                      43.4  \n",
            "\n",
            "[116 rows x 10 columns]\n"
          ]
        }
      ]
    },
    {
      "cell_type": "code",
      "source": [
        "from google.colab import files\n",
        "\n",
        "# Upload the 'archive1.csv' file from your local machine to the Colab environment\n",
        "uploaded = files.upload()"
      ],
      "metadata": {
        "colab": {
          "base_uri": "https://localhost:8080/",
          "height": 73
        },
        "id": "j_GT6delGMkS",
        "outputId": "90b58e0b-0fb7-4972-d855-5b55802a78dc"
      },
      "id": "j_GT6delGMkS",
      "execution_count": 19,
      "outputs": [
        {
          "output_type": "display_data",
          "data": {
            "text/plain": [
              "<IPython.core.display.HTML object>"
            ],
            "text/html": [
              "\n",
              "     <input type=\"file\" id=\"files-4b7c9906-11ee-4604-8eb0-07c7b24bb2cb\" name=\"files[]\" multiple disabled\n",
              "        style=\"border:none\" />\n",
              "     <output id=\"result-4b7c9906-11ee-4604-8eb0-07c7b24bb2cb\">\n",
              "      Upload widget is only available when the cell has been executed in the\n",
              "      current browser session. Please rerun this cell to enable.\n",
              "      </output>\n",
              "      <script>// Copyright 2017 Google LLC\n",
              "//\n",
              "// Licensed under the Apache License, Version 2.0 (the \"License\");\n",
              "// you may not use this file except in compliance with the License.\n",
              "// You may obtain a copy of the License at\n",
              "//\n",
              "//      http://www.apache.org/licenses/LICENSE-2.0\n",
              "//\n",
              "// Unless required by applicable law or agreed to in writing, software\n",
              "// distributed under the License is distributed on an \"AS IS\" BASIS,\n",
              "// WITHOUT WARRANTIES OR CONDITIONS OF ANY KIND, either express or implied.\n",
              "// See the License for the specific language governing permissions and\n",
              "// limitations under the License.\n",
              "\n",
              "/**\n",
              " * @fileoverview Helpers for google.colab Python module.\n",
              " */\n",
              "(function(scope) {\n",
              "function span(text, styleAttributes = {}) {\n",
              "  const element = document.createElement('span');\n",
              "  element.textContent = text;\n",
              "  for (const key of Object.keys(styleAttributes)) {\n",
              "    element.style[key] = styleAttributes[key];\n",
              "  }\n",
              "  return element;\n",
              "}\n",
              "\n",
              "// Max number of bytes which will be uploaded at a time.\n",
              "const MAX_PAYLOAD_SIZE = 100 * 1024;\n",
              "\n",
              "function _uploadFiles(inputId, outputId) {\n",
              "  const steps = uploadFilesStep(inputId, outputId);\n",
              "  const outputElement = document.getElementById(outputId);\n",
              "  // Cache steps on the outputElement to make it available for the next call\n",
              "  // to uploadFilesContinue from Python.\n",
              "  outputElement.steps = steps;\n",
              "\n",
              "  return _uploadFilesContinue(outputId);\n",
              "}\n",
              "\n",
              "// This is roughly an async generator (not supported in the browser yet),\n",
              "// where there are multiple asynchronous steps and the Python side is going\n",
              "// to poll for completion of each step.\n",
              "// This uses a Promise to block the python side on completion of each step,\n",
              "// then passes the result of the previous step as the input to the next step.\n",
              "function _uploadFilesContinue(outputId) {\n",
              "  const outputElement = document.getElementById(outputId);\n",
              "  const steps = outputElement.steps;\n",
              "\n",
              "  const next = steps.next(outputElement.lastPromiseValue);\n",
              "  return Promise.resolve(next.value.promise).then((value) => {\n",
              "    // Cache the last promise value to make it available to the next\n",
              "    // step of the generator.\n",
              "    outputElement.lastPromiseValue = value;\n",
              "    return next.value.response;\n",
              "  });\n",
              "}\n",
              "\n",
              "/**\n",
              " * Generator function which is called between each async step of the upload\n",
              " * process.\n",
              " * @param {string} inputId Element ID of the input file picker element.\n",
              " * @param {string} outputId Element ID of the output display.\n",
              " * @return {!Iterable<!Object>} Iterable of next steps.\n",
              " */\n",
              "function* uploadFilesStep(inputId, outputId) {\n",
              "  const inputElement = document.getElementById(inputId);\n",
              "  inputElement.disabled = false;\n",
              "\n",
              "  const outputElement = document.getElementById(outputId);\n",
              "  outputElement.innerHTML = '';\n",
              "\n",
              "  const pickedPromise = new Promise((resolve) => {\n",
              "    inputElement.addEventListener('change', (e) => {\n",
              "      resolve(e.target.files);\n",
              "    });\n",
              "  });\n",
              "\n",
              "  const cancel = document.createElement('button');\n",
              "  inputElement.parentElement.appendChild(cancel);\n",
              "  cancel.textContent = 'Cancel upload';\n",
              "  const cancelPromise = new Promise((resolve) => {\n",
              "    cancel.onclick = () => {\n",
              "      resolve(null);\n",
              "    };\n",
              "  });\n",
              "\n",
              "  // Wait for the user to pick the files.\n",
              "  const files = yield {\n",
              "    promise: Promise.race([pickedPromise, cancelPromise]),\n",
              "    response: {\n",
              "      action: 'starting',\n",
              "    }\n",
              "  };\n",
              "\n",
              "  cancel.remove();\n",
              "\n",
              "  // Disable the input element since further picks are not allowed.\n",
              "  inputElement.disabled = true;\n",
              "\n",
              "  if (!files) {\n",
              "    return {\n",
              "      response: {\n",
              "        action: 'complete',\n",
              "      }\n",
              "    };\n",
              "  }\n",
              "\n",
              "  for (const file of files) {\n",
              "    const li = document.createElement('li');\n",
              "    li.append(span(file.name, {fontWeight: 'bold'}));\n",
              "    li.append(span(\n",
              "        `(${file.type || 'n/a'}) - ${file.size} bytes, ` +\n",
              "        `last modified: ${\n",
              "            file.lastModifiedDate ? file.lastModifiedDate.toLocaleDateString() :\n",
              "                                    'n/a'} - `));\n",
              "    const percent = span('0% done');\n",
              "    li.appendChild(percent);\n",
              "\n",
              "    outputElement.appendChild(li);\n",
              "\n",
              "    const fileDataPromise = new Promise((resolve) => {\n",
              "      const reader = new FileReader();\n",
              "      reader.onload = (e) => {\n",
              "        resolve(e.target.result);\n",
              "      };\n",
              "      reader.readAsArrayBuffer(file);\n",
              "    });\n",
              "    // Wait for the data to be ready.\n",
              "    let fileData = yield {\n",
              "      promise: fileDataPromise,\n",
              "      response: {\n",
              "        action: 'continue',\n",
              "      }\n",
              "    };\n",
              "\n",
              "    // Use a chunked sending to avoid message size limits. See b/62115660.\n",
              "    let position = 0;\n",
              "    do {\n",
              "      const length = Math.min(fileData.byteLength - position, MAX_PAYLOAD_SIZE);\n",
              "      const chunk = new Uint8Array(fileData, position, length);\n",
              "      position += length;\n",
              "\n",
              "      const base64 = btoa(String.fromCharCode.apply(null, chunk));\n",
              "      yield {\n",
              "        response: {\n",
              "          action: 'append',\n",
              "          file: file.name,\n",
              "          data: base64,\n",
              "        },\n",
              "      };\n",
              "\n",
              "      let percentDone = fileData.byteLength === 0 ?\n",
              "          100 :\n",
              "          Math.round((position / fileData.byteLength) * 100);\n",
              "      percent.textContent = `${percentDone}% done`;\n",
              "\n",
              "    } while (position < fileData.byteLength);\n",
              "  }\n",
              "\n",
              "  // All done.\n",
              "  yield {\n",
              "    response: {\n",
              "      action: 'complete',\n",
              "    }\n",
              "  };\n",
              "}\n",
              "\n",
              "scope.google = scope.google || {};\n",
              "scope.google.colab = scope.google.colab || {};\n",
              "scope.google.colab._files = {\n",
              "  _uploadFiles,\n",
              "  _uploadFilesContinue,\n",
              "};\n",
              "})(self);\n",
              "</script> "
            ]
          },
          "metadata": {}
        },
        {
          "output_type": "stream",
          "name": "stdout",
          "text": [
            "Saving archive1.csv to archive1.csv\n"
          ]
        }
      ]
    },
    {
      "cell_type": "markdown",
      "source": [
        "# 2. Data Splitting\n"
      ],
      "metadata": {
        "id": "6SJwTlICqlBV"
      },
      "id": "6SJwTlICqlBV"
    },
    {
      "cell_type": "code",
      "source": [
        "import os\n",
        "print(os.getcwd())  # Print the current working directory\n"
      ],
      "metadata": {
        "colab": {
          "base_uri": "https://localhost:8080/"
        },
        "id": "eTidygvGsIMT",
        "outputId": "53be9235-9a20-4c3a-e9e9-a3dd419ce32b"
      },
      "id": "eTidygvGsIMT",
      "execution_count": 8,
      "outputs": [
        {
          "output_type": "stream",
          "name": "stdout",
          "text": [
            "/content\n"
          ]
        }
      ]
    },
    {
      "cell_type": "code",
      "source": [
        "from sklearn.model_selection import train_test_split\n",
        "\n",
        "# Define Features (X) and Target (y)\n",
        "X = data[['February Average Temperature', 'February Average Temperature (Northeast)', 'February Average Temperature (Midwest)', 'February Average Temperature (Pennsylvania)']]\n",
        "y = data['Punxsutawney Phil']\n",
        "\n",
        "# Split the data into training and validation sets\n",
        "X_train, X_val, y_train, y_val = train_test_split(X, y, test_size=0.2, random_state=42)\n",
        "\n",
        "print(\"X_train shape:\", X_train.shape)\n",
        "print(\"y_train shape:\", y_train.shape)\n",
        "print(\"X_val shape:\", X_val.shape)\n",
        "print(\"y_val shape:\", y_val.shape)\n",
        "\n"
      ],
      "metadata": {
        "colab": {
          "base_uri": "https://localhost:8080/"
        },
        "id": "rW1uhoVb-KpM",
        "outputId": "e1f1f71c-d366-4514-bc46-8434dfaef7e9"
      },
      "id": "rW1uhoVb-KpM",
      "execution_count": 27,
      "outputs": [
        {
          "output_type": "stream",
          "name": "stdout",
          "text": [
            "X_train shape: (105, 4)\n",
            "y_train shape: (105,)\n",
            "X_val shape: (27, 4)\n",
            "y_val shape: (27,)\n"
          ]
        }
      ]
    },
    {
      "cell_type": "markdown",
      "source": [
        "* To imute missing values - fill in the missing values with appropriate values, such as the mean, median, or mode of the respective column\n"
      ],
      "metadata": {
        "id": "bjMeEplM--cY"
      },
      "id": "bjMeEplM--cY"
    },
    {
      "cell_type": "markdown",
      "source": [
        "* Remove missing values (NaN)"
      ],
      "metadata": {
        "id": "i60p0mc3H5xC"
      },
      "id": "i60p0mc3H5xC"
    },
    {
      "cell_type": "code",
      "source": [
        "from sklearn.impute import SimpleImputer\n",
        "\n",
        "# Initialize the imputer with a strategy (e.g., 'mean')\n",
        "imputer = SimpleImputer(strategy='mean')\n",
        "\n",
        "# Fit and transform the imputer on your training data\n",
        "X_train_imputed = imputer.fit_transform(X_train)\n",
        "\n",
        "# Now, X_train_imputed contains no missing values, and you can use it for training\n",
        "\n",
        "print(\"Imputed Training Data (X_train_imputed):\")\n",
        "print(X_train_imputed)"
      ],
      "metadata": {
        "colab": {
          "base_uri": "https://localhost:8080/"
        },
        "id": "ryMLxibI-vFp",
        "outputId": "404e522e-6bd2-4ff9-8fde-ca31e79f86c7"
      },
      "id": "ryMLxibI-vFp",
      "execution_count": 31,
      "outputs": [
        {
          "output_type": "stream",
          "name": "stdout",
          "text": [
            "Imputed Training Data (X_train_imputed):\n",
            "[[36.59 30.3  34.1  30.7 ]\n",
            " [32.59 22.9  30.4  26.9 ]\n",
            " [35.37 24.8  33.3  26.7 ]\n",
            " [37.51 30.6  38.6  34.3 ]\n",
            " [32.27 25.6  36.1  29.8 ]\n",
            " [29.3  20.6  28.5  23.8 ]\n",
            " [31.24 23.2  31.9  26.5 ]\n",
            " [39.78 27.2  40.1  31.6 ]\n",
            " [31.73 26.3  32.2  28.5 ]\n",
            " [29.86 16.   26.2  18.9 ]\n",
            " [31.77 21.6  30.9  23.6 ]\n",
            " [41.41 30.   41.1  33.6 ]\n",
            " [33.01 18.4  31.2  22.1 ]\n",
            " [37.94 24.2  38.   29.  ]\n",
            " [35.46 26.4  37.5  30.6 ]\n",
            " [32.76 24.7  33.5  28.8 ]\n",
            " [33.03 18.9  30.1  22.8 ]\n",
            " [34.7  25.4  32.1  27.7 ]\n",
            " [33.48 23.9  31.8  27.5 ]\n",
            " [26.6  15.6  21.9  17.  ]\n",
            " [32.25 25.4  34.1  29.6 ]\n",
            " [35.87 28.   37.4  31.8 ]\n",
            " [33.66 21.4  37.5  28.5 ]\n",
            " [35.85 22.3  34.3  26.7 ]\n",
            " [29.52 14.5  26.3  18.7 ]\n",
            " [32.85 20.   26.6  23.  ]\n",
            " [28.13 13.9  22.9  16.4 ]\n",
            " [29.98 24.9  34.   30.2 ]\n",
            " [31.05 24.2  33.4  27.3 ]\n",
            " [37.94 26.2  38.1  30.1 ]\n",
            " [38.3  29.2  38.7  32.8 ]\n",
            " [36.01 21.1  35.   25.8 ]\n",
            " [36.9  25.1  37.6  30.  ]\n",
            " [31.46 20.1  23.6  21.  ]\n",
            " [34.12 16.2  26.3  18.4 ]\n",
            " [33.69 19.6  31.5  23.  ]\n",
            " [36.77 26.2  35.9  29.6 ]\n",
            " [26.92 21.7  26.2  24.7 ]\n",
            " [32.49 20.6  33.7  27.  ]\n",
            " [39.81 28.7  37.4  32.4 ]\n",
            " [36.05 28.6  37.7  33.  ]\n",
            " [25.5  18.1  22.2  20.  ]\n",
            " [39.47 28.1  36.9  30.8 ]\n",
            " [28.42 24.5  31.3  28.  ]\n",
            " [35.19 18.3  31.7  23.9 ]\n",
            " [31.98 17.9  24.5  20.4 ]\n",
            " [31.8  25.9  28.2  25.8 ]\n",
            " [35.35 22.5  31.3  25.3 ]\n",
            " [39.49 28.2  39.5  31.7 ]\n",
            " [36.7  28.   39.9  33.9 ]\n",
            " [33.85 22.3  31.9  26.3 ]\n",
            " [25.23 15.6  24.   18.3 ]\n",
            " [37.36 20.6  32.6  23.9 ]\n",
            " [36.7  25.7  41.   32.6 ]\n",
            " [36.86 26.2  35.9  29.8 ]\n",
            " [31.41 20.5  25.7  21.7 ]\n",
            " [32.99 12.1  23.4  16.1 ]\n",
            " [32.52 22.1  31.8  26.2 ]\n",
            " [33.98 26.   36.1  31.5 ]\n",
            " [36.03 23.2  31.5  26.1 ]\n",
            " [37.9  26.2  40.4  32.  ]\n",
            " [34.5  22.4  36.3  27.5 ]\n",
            " [39.56 28.8  41.1  33.5 ]\n",
            " [34.32 10.4  27.2  15.2 ]\n",
            " [34.74 21.7  34.5  26.2 ]\n",
            " [38.71 31.6  40.9  35.8 ]\n",
            " [36.28 23.9  35.4  27.6 ]\n",
            " [37.42 24.6  37.3  28.9 ]\n",
            " [33.82 19.8  34.1  25.7 ]\n",
            " [33.04 24.1  34.4  28.6 ]\n",
            " [35.28 23.6  33.9  27.1 ]\n",
            " [31.91 28.   36.3  32.9 ]\n",
            " [35.69 23.6  33.4  27.  ]\n",
            " [29.57 16.2  29.1  22.1 ]\n",
            " [35.94 26.7  37.6  30.6 ]\n",
            " [31.14 17.5  30.5  23.5 ]\n",
            " [33.57 24.   33.1  27.  ]\n",
            " [36.   26.   40.2  31.4 ]\n",
            " [35.46 15.2  31.5  20.1 ]\n",
            " [35.02 26.4  37.2  32.9 ]\n",
            " [29.17 23.   28.6  27.1 ]\n",
            " [30.87 24.8  28.4  27.1 ]\n",
            " [36.39 29.7  36.8  33.9 ]\n",
            " [33.58 21.8  32.7  25.5 ]\n",
            " [34.83 26.2  33.7  29.8 ]\n",
            " [30.52 26.9  29.8  28.6 ]\n",
            " [33.55 20.1  31.5  23.2 ]\n",
            " [32.92 18.4  27.3  22.3 ]\n",
            " [32.41 18.   26.1  20.1 ]\n",
            " [33.82 22.5  32.9  26.5 ]\n",
            " [33.69 22.   30.7  25.3 ]\n",
            " [34.88 21.4  36.5  27.4 ]\n",
            " [38.07 27.3  38.6  31.4 ]\n",
            " [39.7  25.7  39.5  30.9 ]\n",
            " [30.76 21.4  27.5  24.1 ]\n",
            " [27.99 15.6  20.3  17.2 ]\n",
            " [33.69 23.7  30.4  26.8 ]]\n"
          ]
        }
      ]
    },
    {
      "cell_type": "code",
      "source": [
        "X_train.dropna(axis=0, inplace=True)\n",
        "y_train = y_train[X_train.index]  # Align target variable\n",
        "\n",
        "# Now, X_train and y_train have no missing values, but some rows are dropped\n",
        "\n",
        "# print the resulting dataset after dropping samples\n",
        "print(\"Training Data After Dropping Samples (X_train):\")\n",
        "print(X_train)"
      ],
      "metadata": {
        "colab": {
          "base_uri": "https://localhost:8080/"
        },
        "id": "c06W-n0J_O4z",
        "outputId": "6880c978-eecc-4654-cec2-b1529eadbdf0"
      },
      "id": "c06W-n0J_O4z",
      "execution_count": 32,
      "outputs": [
        {
          "output_type": "stream",
          "name": "stdout",
          "text": [
            "Training Data After Dropping Samples (X_train):\n",
            "     February Average Temperature  February Average Temperature (Northeast)  \\\n",
            "95                          36.59                                      30.3   \n",
            "96                          32.59                                      22.9   \n",
            "12                          35.37                                      24.8   \n",
            "126                         37.51                                      30.6   \n",
            "70                          32.27                                      25.6   \n",
            "..                            ...                                       ...   \n",
            "71                          38.07                                      27.3   \n",
            "106                         39.70                                      25.7   \n",
            "14                          30.76                                      21.4   \n",
            "92                          27.99                                      15.6   \n",
            "102                         33.69                                      23.7   \n",
            "\n",
            "     February Average Temperature (Midwest)  \\\n",
            "95                                     34.1   \n",
            "96                                     30.4   \n",
            "12                                     33.3   \n",
            "126                                    38.6   \n",
            "70                                     36.1   \n",
            "..                                      ...   \n",
            "71                                     38.6   \n",
            "106                                    39.5   \n",
            "14                                     27.5   \n",
            "92                                     20.3   \n",
            "102                                    30.4   \n",
            "\n",
            "     February Average Temperature (Pennsylvania)  \n",
            "95                                          30.7  \n",
            "96                                          26.9  \n",
            "12                                          26.7  \n",
            "126                                         34.3  \n",
            "70                                          29.8  \n",
            "..                                           ...  \n",
            "71                                          31.4  \n",
            "106                                         30.9  \n",
            "14                                          24.1  \n",
            "92                                          17.2  \n",
            "102                                         26.8  \n",
            "\n",
            "[97 rows x 4 columns]\n"
          ]
        }
      ]
    },
    {
      "cell_type": "code",
      "source": [
        "from sklearn.model_selection import train_test_split\n",
        "\n",
        "# Assuming 'data' is your preprocessed DataFrame\n",
        "X = data.drop('Punxsutawney Phil', axis=1)  # Features\n",
        "y = data['Punxsutawney Phil']  # Target variable\n",
        "\n",
        "X_train, X_val, y_train, y_val = train_test_split(X, y, test_size=0.2, random_state=42)\n",
        "\n",
        "print(\"Training set dimensions:\", X_train.shape, y_train.shape)\n",
        "print(\"Validation set dimensions:\", X_val.shape, y_val.shape)\n"
      ],
      "metadata": {
        "colab": {
          "base_uri": "https://localhost:8080/"
        },
        "id": "Yr5J0l7zPq9-",
        "outputId": "3ea56f7f-7b20-4410-f6d8-b7ed9761549b"
      },
      "id": "Yr5J0l7zPq9-",
      "execution_count": 109,
      "outputs": [
        {
          "output_type": "stream",
          "name": "stdout",
          "text": [
            "Training set dimensions: (93, 9) (93,)\n",
            "Validation set dimensions: (24, 9) (24,)\n"
          ]
        }
      ]
    },
    {
      "cell_type": "code",
      "source": [
        "\n",
        "# Check for missing values in the 'Year' column\n",
        "missing_years = X_train['Year'].isnull()\n",
        "\n",
        "# Remove rows with missing 'Year' values\n",
        "X_train = X_train[~missing_years]\n"
      ],
      "metadata": {
        "id": "kXMTDwhPVTq8"
      },
      "id": "kXMTDwhPVTq8",
      "execution_count": 116,
      "outputs": []
    },
    {
      "cell_type": "code",
      "source": [
        "# Fill NaN values in 'Year' with a default value (e.g., 0)\n",
        "X_train['Year'] = X_train['Year'].fillna('0')\n",
        "\n",
        "# Split the 'Year' column into 'Start_Year' and 'End_Year' and convert to integers\n",
        "X_train['Start_Year'] = X_train['Year'].str.split('-').str[0].astype(int)\n",
        "\n",
        "\n",
        "# Drop the original 'Year' column\n",
        "X_train = X_train.drop('Year', axis=1)\n"
      ],
      "metadata": {
        "id": "QMZR8MtSWTFz"
      },
      "id": "QMZR8MtSWTFz",
      "execution_count": 119,
      "outputs": []
    },
    {
      "cell_type": "code",
      "source": [
        "data = pd.read_csv('archive1.csv')\n",
        "\n",
        "# Separate features (X) and the target variable (y)\n",
        "X_train = data.drop(columns=['Punxsutawney Phil'])  # Replace 'Punxsutawney Phil' with the actual name of your target column\n",
        "y_train = data['Punxsutawney Phil']  # Replace 'Punxsutawney Phil' with the actual name of your target column\n",
        "\n",
        "# Now you have X_train (features) and y_train (target variable) defined\n"
      ],
      "metadata": {
        "id": "wt9TzZCrICbG"
      },
      "id": "wt9TzZCrICbG",
      "execution_count": 23,
      "outputs": []
    },
    {
      "cell_type": "code",
      "source": [
        "# Remove rows with missing target values in y_train and keep the aligned rows in X_train\n",
        "y_train = y_train[~X_train.isnull().any(axis=1)]\n",
        "X_train = X_train.dropna(axis=0)\n",
        "\n",
        "# Now, both X_train and y_train will not contain any rows with missing values\n"
      ],
      "metadata": {
        "id": "jYkAS4MpIaYC"
      },
      "id": "jYkAS4MpIaYC",
      "execution_count": 24,
      "outputs": []
    },
    {
      "cell_type": "markdown",
      "source": [
        "* Handled missed Values\n",
        "* Now split data"
      ],
      "metadata": {
        "id": "oxO-ASrcIzmz"
      },
      "id": "oxO-ASrcIzmz"
    },
    {
      "cell_type": "code",
      "source": [
        "from sklearn.model_selection import train_test_split\n",
        "\n",
        "X_train, X_val, y_train, y_val = train_test_split(X_train, y_train, test_size=0.2, random_state=42)\n"
      ],
      "metadata": {
        "id": "b6hVLl2DIw0m"
      },
      "id": "b6hVLl2DIw0m",
      "execution_count": 25,
      "outputs": []
    },
    {
      "cell_type": "markdown",
      "source": [
        "* 'Year' column cause conversion issues - therefore range value properly"
      ],
      "metadata": {
        "id": "UsEcdbZUJzgc"
      },
      "id": "UsEcdbZUJzgc"
    },
    {
      "cell_type": "code",
      "source": [
        "# Fill NaN values in 'Year' with a default value (e.g., 0)\n",
        "X_train['Year'] = X_train['Year'].fillna('0')\n",
        "\n",
        "# Replace the range '1901-2000' with the midpoint value '1950'\n",
        "X_train['Year'] = X_train['Year'].replace('1901-2000', '1950').astype(int)\n"
      ],
      "metadata": {
        "id": "7kxptHJ-JxPJ"
      },
      "id": "7kxptHJ-JxPJ",
      "execution_count": 31,
      "outputs": []
    },
    {
      "cell_type": "markdown",
      "source": [
        "* Still getting NaN for y_train - drop the corresponding rows in X_train to keep the data aligned"
      ],
      "metadata": {
        "id": "w-I3awEzKYgD"
      },
      "id": "w-I3awEzKYgD"
    },
    {
      "cell_type": "code",
      "source": [
        "# Remove rows with missing target values in y_train and keep the aligned rows in X_train\n",
        "y_train = y_train[~X_train.isnull().any(axis=1)]\n",
        "X_train = X_train.dropna(axis=0)\n",
        "\n",
        "print(y_train.isnull().sum())\n",
        "\n"
      ],
      "metadata": {
        "colab": {
          "base_uri": "https://localhost:8080/"
        },
        "id": "FpywSREvKW0G",
        "outputId": "9a8ba680-1d5e-4e54-b324-c64da0905f69"
      },
      "id": "FpywSREvKW0G",
      "execution_count": 37,
      "outputs": [
        {
          "output_type": "stream",
          "name": "stdout",
          "text": [
            "1\n"
          ]
        }
      ]
    },
    {
      "cell_type": "markdown",
      "source": [
        "* Still 1 missing value"
      ],
      "metadata": {
        "id": "j6NcL-TZLND-"
      },
      "id": "j6NcL-TZLND-"
    },
    {
      "cell_type": "code",
      "source": [
        "y_train = y_train.dropna()\n",
        "X_train = X_train.dropna()\n"
      ],
      "metadata": {
        "id": "6y46cRHiLEbt"
      },
      "id": "6y46cRHiLEbt",
      "execution_count": 38,
      "outputs": []
    },
    {
      "cell_type": "markdown",
      "source": [
        "* Successful both are 0"
      ],
      "metadata": {
        "id": "hyGiUQ99Lc96"
      },
      "id": "hyGiUQ99Lc96"
    },
    {
      "cell_type": "code",
      "source": [
        "# Check for missing values in X_train\n",
        "missing_values_X = X_train.isnull().sum().sum()\n",
        "print(f\"Number of missing values in X_train: {missing_values_X}\")\n",
        "\n",
        "# Check for missing values in y_train\n",
        "missing_values_y = y_train.isnull().sum()\n",
        "print(f\"Number of missing values in y_train: {missing_values_y}\")\n"
      ],
      "metadata": {
        "colab": {
          "base_uri": "https://localhost:8080/"
        },
        "id": "hqmLV2pxLVIU",
        "outputId": "2b800fa8-e01c-4e39-8af2-230b92791367"
      },
      "id": "hqmLV2pxLVIU",
      "execution_count": 39,
      "outputs": [
        {
          "output_type": "stream",
          "name": "stdout",
          "text": [
            "Number of missing values in X_train: 0\n",
            "Number of missing values in y_train: 0\n"
          ]
        }
      ]
    },
    {
      "cell_type": "markdown",
      "source": [
        "*  dropped some rows from X_train that had missing values. But didn't update y_train to reflect the same row removals -  update y_train to match the rows in X_train"
      ],
      "metadata": {
        "id": "Zx1CZUS0Myid"
      },
      "id": "Zx1CZUS0Myid"
    },
    {
      "cell_type": "code",
      "source": [
        "X_train, y_train = X_train.align(y_train, join='inner', axis=0)\n"
      ],
      "metadata": {
        "id": "rBPs9sMVMVHv"
      },
      "id": "rBPs9sMVMVHv",
      "execution_count": 44,
      "outputs": []
    },
    {
      "cell_type": "markdown",
      "source": [
        "# 3. Select Machine Learning Algorithm"
      ],
      "metadata": {
        "id": "_ie8mo0UDHyu"
      },
      "id": "_ie8mo0UDHyu"
    },
    {
      "cell_type": "code",
      "source": [
        "from sklearn.ensemble import RandomForestClassifier\n",
        "model = RandomForestClassifier(random_state=42)\n"
      ],
      "metadata": {
        "id": "vVR1_rTHDP2f"
      },
      "id": "vVR1_rTHDP2f",
      "execution_count": 48,
      "outputs": []
    },
    {
      "cell_type": "markdown",
      "source": [
        "# 4. Model Training - RandomForestClassifier"
      ],
      "metadata": {
        "id": "FYYXhUwFDtoe"
      },
      "id": "FYYXhUwFDtoe"
    },
    {
      "cell_type": "code",
      "source": [
        "model.fit(X_train, y_train)"
      ],
      "metadata": {
        "colab": {
          "base_uri": "https://localhost:8080/",
          "height": 74
        },
        "id": "vuumGI8qNd4y",
        "outputId": "e28c5eed-1a31-4606-8aea-e24fd9e766c0"
      },
      "id": "vuumGI8qNd4y",
      "execution_count": 49,
      "outputs": [
        {
          "output_type": "execute_result",
          "data": {
            "text/plain": [
              "RandomForestClassifier(random_state=42)"
            ],
            "text/html": [
              "<style>#sk-container-id-4 {color: black;background-color: white;}#sk-container-id-4 pre{padding: 0;}#sk-container-id-4 div.sk-toggleable {background-color: white;}#sk-container-id-4 label.sk-toggleable__label {cursor: pointer;display: block;width: 100%;margin-bottom: 0;padding: 0.3em;box-sizing: border-box;text-align: center;}#sk-container-id-4 label.sk-toggleable__label-arrow:before {content: \"▸\";float: left;margin-right: 0.25em;color: #696969;}#sk-container-id-4 label.sk-toggleable__label-arrow:hover:before {color: black;}#sk-container-id-4 div.sk-estimator:hover label.sk-toggleable__label-arrow:before {color: black;}#sk-container-id-4 div.sk-toggleable__content {max-height: 0;max-width: 0;overflow: hidden;text-align: left;background-color: #f0f8ff;}#sk-container-id-4 div.sk-toggleable__content pre {margin: 0.2em;color: black;border-radius: 0.25em;background-color: #f0f8ff;}#sk-container-id-4 input.sk-toggleable__control:checked~div.sk-toggleable__content {max-height: 200px;max-width: 100%;overflow: auto;}#sk-container-id-4 input.sk-toggleable__control:checked~label.sk-toggleable__label-arrow:before {content: \"▾\";}#sk-container-id-4 div.sk-estimator input.sk-toggleable__control:checked~label.sk-toggleable__label {background-color: #d4ebff;}#sk-container-id-4 div.sk-label input.sk-toggleable__control:checked~label.sk-toggleable__label {background-color: #d4ebff;}#sk-container-id-4 input.sk-hidden--visually {border: 0;clip: rect(1px 1px 1px 1px);clip: rect(1px, 1px, 1px, 1px);height: 1px;margin: -1px;overflow: hidden;padding: 0;position: absolute;width: 1px;}#sk-container-id-4 div.sk-estimator {font-family: monospace;background-color: #f0f8ff;border: 1px dotted black;border-radius: 0.25em;box-sizing: border-box;margin-bottom: 0.5em;}#sk-container-id-4 div.sk-estimator:hover {background-color: #d4ebff;}#sk-container-id-4 div.sk-parallel-item::after {content: \"\";width: 100%;border-bottom: 1px solid gray;flex-grow: 1;}#sk-container-id-4 div.sk-label:hover label.sk-toggleable__label {background-color: #d4ebff;}#sk-container-id-4 div.sk-serial::before {content: \"\";position: absolute;border-left: 1px solid gray;box-sizing: border-box;top: 0;bottom: 0;left: 50%;z-index: 0;}#sk-container-id-4 div.sk-serial {display: flex;flex-direction: column;align-items: center;background-color: white;padding-right: 0.2em;padding-left: 0.2em;position: relative;}#sk-container-id-4 div.sk-item {position: relative;z-index: 1;}#sk-container-id-4 div.sk-parallel {display: flex;align-items: stretch;justify-content: center;background-color: white;position: relative;}#sk-container-id-4 div.sk-item::before, #sk-container-id-4 div.sk-parallel-item::before {content: \"\";position: absolute;border-left: 1px solid gray;box-sizing: border-box;top: 0;bottom: 0;left: 50%;z-index: -1;}#sk-container-id-4 div.sk-parallel-item {display: flex;flex-direction: column;z-index: 1;position: relative;background-color: white;}#sk-container-id-4 div.sk-parallel-item:first-child::after {align-self: flex-end;width: 50%;}#sk-container-id-4 div.sk-parallel-item:last-child::after {align-self: flex-start;width: 50%;}#sk-container-id-4 div.sk-parallel-item:only-child::after {width: 0;}#sk-container-id-4 div.sk-dashed-wrapped {border: 1px dashed gray;margin: 0 0.4em 0.5em 0.4em;box-sizing: border-box;padding-bottom: 0.4em;background-color: white;}#sk-container-id-4 div.sk-label label {font-family: monospace;font-weight: bold;display: inline-block;line-height: 1.2em;}#sk-container-id-4 div.sk-label-container {text-align: center;}#sk-container-id-4 div.sk-container {/* jupyter's `normalize.less` sets `[hidden] { display: none; }` but bootstrap.min.css set `[hidden] { display: none !important; }` so we also need the `!important` here to be able to override the default hidden behavior on the sphinx rendered scikit-learn.org. See: https://github.com/scikit-learn/scikit-learn/issues/21755 */display: inline-block !important;position: relative;}#sk-container-id-4 div.sk-text-repr-fallback {display: none;}</style><div id=\"sk-container-id-4\" class=\"sk-top-container\"><div class=\"sk-text-repr-fallback\"><pre>RandomForestClassifier(random_state=42)</pre><b>In a Jupyter environment, please rerun this cell to show the HTML representation or trust the notebook. <br />On GitHub, the HTML representation is unable to render, please try loading this page with nbviewer.org.</b></div><div class=\"sk-container\" hidden><div class=\"sk-item\"><div class=\"sk-estimator sk-toggleable\"><input class=\"sk-toggleable__control sk-hidden--visually\" id=\"sk-estimator-id-4\" type=\"checkbox\" checked><label for=\"sk-estimator-id-4\" class=\"sk-toggleable__label sk-toggleable__label-arrow\">RandomForestClassifier</label><div class=\"sk-toggleable__content\"><pre>RandomForestClassifier(random_state=42)</pre></div></div></div></div></div>"
            ]
          },
          "metadata": {},
          "execution_count": 49
        }
      ]
    },
    {
      "cell_type": "markdown",
      "source": [
        "* Check the feature importances (if available) to see the expected feature names - this is for predictions"
      ],
      "metadata": {
        "id": "hYYmNUWBTrgO"
      },
      "id": "hYYmNUWBTrgO"
    },
    {
      "cell_type": "code",
      "source": [
        "if hasattr(model, 'feature_importances_'):\n",
        "    feature_importances = model.feature_importances_\n",
        "    feature_names = X_train.columns\n",
        "\n",
        "    for feature_name, importance in zip(feature_names, feature_importances):\n",
        "        print(f\"Feature: {feature_name}, Importance: {importance}\")\n",
        "else:\n",
        "    print(\"This model does not provide feature importances.\")\n",
        "\n",
        "# If feature importances are available, it will print the feature names and their importances.\n"
      ],
      "metadata": {
        "colab": {
          "base_uri": "https://localhost:8080/"
        },
        "id": "oJzjqi8wTjwb",
        "outputId": "1f5526e4-b0de-4d7a-89c7-6f6b37eb0d0d"
      },
      "id": "oJzjqi8wTjwb",
      "execution_count": 63,
      "outputs": [
        {
          "output_type": "stream",
          "name": "stdout",
          "text": [
            "Feature: Year, Importance: 0.22305009774516482\n",
            "Feature: February Average Temperature, Importance: 0.09628059917226592\n",
            "Feature: February Average Temperature (Northeast), Importance: 0.12859467630860974\n",
            "Feature: February Average Temperature (Midwest), Importance: 0.0876210459123451\n",
            "Feature: February Average Temperature (Pennsylvania), Importance: 0.09317836674266333\n",
            "Feature: March Average Temperature, Importance: 0.10593365372498827\n",
            "Feature: March Average Temperature (Northeast), Importance: 0.08843617472352458\n",
            "Feature: March Average Temperature (Midwest), Importance: 0.09526591372613379\n",
            "Feature: March Average Temperature (Pennsylvania), Importance: 0.0816394719443045\n"
          ]
        }
      ]
    },
    {
      "cell_type": "markdown",
      "source": [
        "# Model Training - Neural Network Model\n"
      ],
      "metadata": {
        "id": "FCYClQFiYtxu"
      },
      "id": "FCYClQFiYtxu"
    },
    {
      "cell_type": "code",
      "source": [
        "import tensorflow as tf\n",
        "from tensorflow import keras\n",
        "import numpy as np\n",
        "\n",
        "model = tf.keras.Sequential([keras.layers.Dense(units=1, input_shape=[1])])"
      ],
      "metadata": {
        "id": "jLOxtgiSX-PA"
      },
      "id": "jLOxtgiSX-PA",
      "execution_count": 76,
      "outputs": []
    },
    {
      "cell_type": "code",
      "source": [
        "model = keras.Sequential([\n",
        "    keras.layers.Input(shape=(X_train.shape[1],)),  # input shape should match the number of features\n",
        "    keras.layers.Dense(64, activation='relu'),\n",
        "    keras.layers.Dense(32, activation='relu'),\n",
        "    keras.layers.Dense(1, activation='sigmoid')\n",
        "])\n"
      ],
      "metadata": {
        "id": "4RwQJk31aIhx"
      },
      "id": "4RwQJk31aIhx",
      "execution_count": 87,
      "outputs": []
    },
    {
      "cell_type": "code",
      "source": [
        "model.compile(optimizer='adam', loss='binary_crossentropy', metrics=['accuracy'])"
      ],
      "metadata": {
        "id": "xk2Dcr-saaqm"
      },
      "id": "xk2Dcr-saaqm",
      "execution_count": 88,
      "outputs": []
    },
    {
      "cell_type": "code",
      "source": [
        "# Ensure binary labels\n",
        "y_train = (y_train == 'Full Shadow').astype(int)\n",
        "y_val = (y_val == 'Full Shadow').astype(int)\n",
        "\n",
        "# Verify that your features are in the correct format and data type (e.g., float32)\n",
        "X_train = X_train.astype('float32')\n",
        "X_val = X_val.astype('float32')\n",
        "\n",
        "\n",
        "model.fit(X_train, y_train, epochs=50, batch_size=32, validation_data=(X_val, y_val))\n"
      ],
      "metadata": {
        "colab": {
          "base_uri": "https://localhost:8080/"
        },
        "id": "Kz5P24HXaeHr",
        "outputId": "2a4c867b-c8dc-4d32-fb08-a452de6a9283"
      },
      "id": "Kz5P24HXaeHr",
      "execution_count": 91,
      "outputs": [
        {
          "output_type": "stream",
          "name": "stdout",
          "text": [
            "Epoch 1/50\n",
            "4/4 [==============================] - 1s 89ms/step - loss: 203.6163 - accuracy: 0.1443 - val_loss: 99.8685 - val_accuracy: 0.3200\n",
            "Epoch 2/50\n",
            "4/4 [==============================] - 0s 13ms/step - loss: 102.0635 - accuracy: 0.1443 - val_loss: 22.0224 - val_accuracy: 0.3200\n",
            "Epoch 3/50\n",
            "4/4 [==============================] - 0s 12ms/step - loss: 11.7217 - accuracy: 0.3814 - val_loss: 24.0311 - val_accuracy: 0.6800\n",
            "Epoch 4/50\n",
            "4/4 [==============================] - 0s 18ms/step - loss: 13.9907 - accuracy: 0.8557 - val_loss: 44.8101 - val_accuracy: 0.6800\n",
            "Epoch 5/50\n",
            "4/4 [==============================] - 0s 14ms/step - loss: 21.7521 - accuracy: 0.8557 - val_loss: 55.5613 - val_accuracy: 0.6800\n",
            "Epoch 6/50\n",
            "4/4 [==============================] - 0s 13ms/step - loss: 25.6086 - accuracy: 0.8557 - val_loss: 59.4710 - val_accuracy: 0.6800\n",
            "Epoch 7/50\n",
            "4/4 [==============================] - 0s 13ms/step - loss: 26.9521 - accuracy: 0.8557 - val_loss: 58.7715 - val_accuracy: 0.6800\n",
            "Epoch 8/50\n",
            "4/4 [==============================] - 0s 12ms/step - loss: 26.1745 - accuracy: 0.8557 - val_loss: 52.8839 - val_accuracy: 0.6800\n",
            "Epoch 9/50\n",
            "4/4 [==============================] - 0s 19ms/step - loss: 22.1571 - accuracy: 0.8557 - val_loss: 40.8553 - val_accuracy: 0.6800\n",
            "Epoch 10/50\n",
            "4/4 [==============================] - 0s 12ms/step - loss: 16.9663 - accuracy: 0.8557 - val_loss: 29.4352 - val_accuracy: 0.6800\n",
            "Epoch 11/50\n",
            "4/4 [==============================] - 0s 18ms/step - loss: 12.2419 - accuracy: 0.8557 - val_loss: 18.2336 - val_accuracy: 0.6800\n",
            "Epoch 12/50\n",
            "4/4 [==============================] - 0s 15ms/step - loss: 6.9080 - accuracy: 0.8557 - val_loss: 7.5968 - val_accuracy: 0.6800\n",
            "Epoch 13/50\n",
            "4/4 [==============================] - 0s 14ms/step - loss: 2.3848 - accuracy: 0.8454 - val_loss: 1.9748 - val_accuracy: 0.3200\n",
            "Epoch 14/50\n",
            "4/4 [==============================] - 0s 17ms/step - loss: 1.0850 - accuracy: 0.6186 - val_loss: 3.9993 - val_accuracy: 0.6800\n",
            "Epoch 15/50\n",
            "4/4 [==============================] - 0s 13ms/step - loss: 2.0309 - accuracy: 0.8557 - val_loss: 4.6508 - val_accuracy: 0.6800\n",
            "Epoch 16/50\n",
            "4/4 [==============================] - 0s 14ms/step - loss: 1.8459 - accuracy: 0.8557 - val_loss: 1.4068 - val_accuracy: 0.6800\n",
            "Epoch 17/50\n",
            "4/4 [==============================] - 0s 14ms/step - loss: 0.9156 - accuracy: 0.5361 - val_loss: 2.1055 - val_accuracy: 0.6800\n",
            "Epoch 18/50\n",
            "4/4 [==============================] - 0s 18ms/step - loss: 1.2394 - accuracy: 0.8557 - val_loss: 3.4349 - val_accuracy: 0.6800\n",
            "Epoch 19/50\n",
            "4/4 [==============================] - 0s 13ms/step - loss: 1.3325 - accuracy: 0.8557 - val_loss: 1.0604 - val_accuracy: 0.6800\n",
            "Epoch 20/50\n",
            "4/4 [==============================] - 0s 13ms/step - loss: 0.7399 - accuracy: 0.5876 - val_loss: 2.2899 - val_accuracy: 0.6800\n",
            "Epoch 21/50\n",
            "4/4 [==============================] - 0s 16ms/step - loss: 1.1125 - accuracy: 0.8557 - val_loss: 2.5672 - val_accuracy: 0.6800\n",
            "Epoch 22/50\n",
            "4/4 [==============================] - 0s 14ms/step - loss: 0.8425 - accuracy: 0.8557 - val_loss: 0.7324 - val_accuracy: 0.6000\n",
            "Epoch 23/50\n",
            "4/4 [==============================] - 0s 20ms/step - loss: 0.4667 - accuracy: 0.8144 - val_loss: 1.3880 - val_accuracy: 0.6800\n",
            "Epoch 24/50\n",
            "4/4 [==============================] - 0s 13ms/step - loss: 0.5129 - accuracy: 0.8557 - val_loss: 0.7789 - val_accuracy: 0.6800\n",
            "Epoch 25/50\n",
            "4/4 [==============================] - 0s 13ms/step - loss: 0.4752 - accuracy: 0.8454 - val_loss: 1.1442 - val_accuracy: 0.6800\n",
            "Epoch 26/50\n",
            "4/4 [==============================] - 0s 21ms/step - loss: 0.4825 - accuracy: 0.8557 - val_loss: 3.4314 - val_accuracy: 0.3200\n",
            "Epoch 27/50\n",
            "4/4 [==============================] - 0s 20ms/step - loss: 2.9336 - accuracy: 0.3608 - val_loss: 4.5887 - val_accuracy: 0.6800\n",
            "Epoch 28/50\n",
            "4/4 [==============================] - 0s 19ms/step - loss: 2.7612 - accuracy: 0.8557 - val_loss: 4.8042 - val_accuracy: 0.6800\n",
            "Epoch 29/50\n",
            "4/4 [==============================] - 0s 20ms/step - loss: 1.3017 - accuracy: 0.7629 - val_loss: 0.7414 - val_accuracy: 0.5200\n",
            "Epoch 30/50\n",
            "4/4 [==============================] - 0s 20ms/step - loss: 1.2224 - accuracy: 0.7629 - val_loss: 5.6096 - val_accuracy: 0.6800\n",
            "Epoch 31/50\n",
            "4/4 [==============================] - 0s 16ms/step - loss: 2.5981 - accuracy: 0.8557 - val_loss: 5.3651 - val_accuracy: 0.6800\n",
            "Epoch 32/50\n",
            "4/4 [==============================] - 0s 13ms/step - loss: 2.0262 - accuracy: 0.8557 - val_loss: 1.3911 - val_accuracy: 0.6800\n",
            "Epoch 33/50\n",
            "4/4 [==============================] - 0s 18ms/step - loss: 0.6940 - accuracy: 0.5876 - val_loss: 1.7297 - val_accuracy: 0.6800\n",
            "Epoch 34/50\n",
            "4/4 [==============================] - 0s 14ms/step - loss: 1.1295 - accuracy: 0.8557 - val_loss: 2.1169 - val_accuracy: 0.6800\n",
            "Epoch 35/50\n",
            "4/4 [==============================] - 0s 14ms/step - loss: 0.7717 - accuracy: 0.7938 - val_loss: 1.1621 - val_accuracy: 0.6800\n",
            "Epoch 36/50\n",
            "4/4 [==============================] - 0s 13ms/step - loss: 0.8025 - accuracy: 0.8557 - val_loss: 2.0733 - val_accuracy: 0.6800\n",
            "Epoch 37/50\n",
            "4/4 [==============================] - 0s 19ms/step - loss: 0.7741 - accuracy: 0.8454 - val_loss: 1.4153 - val_accuracy: 0.6800\n",
            "Epoch 38/50\n",
            "4/4 [==============================] - 0s 19ms/step - loss: 0.9834 - accuracy: 0.8557 - val_loss: 0.7171 - val_accuracy: 0.5200\n",
            "Epoch 39/50\n",
            "4/4 [==============================] - 0s 19ms/step - loss: 2.0934 - accuracy: 0.3402 - val_loss: 4.0920 - val_accuracy: 0.6800\n",
            "Epoch 40/50\n",
            "4/4 [==============================] - 0s 19ms/step - loss: 2.8140 - accuracy: 0.8557 - val_loss: 8.5644 - val_accuracy: 0.6800\n",
            "Epoch 41/50\n",
            "4/4 [==============================] - 0s 13ms/step - loss: 3.9061 - accuracy: 0.8557 - val_loss: 7.5996 - val_accuracy: 0.6800\n",
            "Epoch 42/50\n",
            "4/4 [==============================] - 0s 14ms/step - loss: 2.9301 - accuracy: 0.8557 - val_loss: 2.8746 - val_accuracy: 0.6800\n",
            "Epoch 43/50\n",
            "4/4 [==============================] - 0s 20ms/step - loss: 1.1474 - accuracy: 0.6186 - val_loss: 2.2222 - val_accuracy: 0.6800\n",
            "Epoch 44/50\n",
            "4/4 [==============================] - 0s 16ms/step - loss: 1.4563 - accuracy: 0.8557 - val_loss: 6.5181 - val_accuracy: 0.6800\n",
            "Epoch 45/50\n",
            "4/4 [==============================] - 0s 13ms/step - loss: 3.0533 - accuracy: 0.8557 - val_loss: 5.9844 - val_accuracy: 0.6800\n",
            "Epoch 46/50\n",
            "4/4 [==============================] - 0s 13ms/step - loss: 2.2953 - accuracy: 0.8557 - val_loss: 1.2885 - val_accuracy: 0.6800\n",
            "Epoch 47/50\n",
            "4/4 [==============================] - 0s 13ms/step - loss: 0.7560 - accuracy: 0.5464 - val_loss: 2.2039 - val_accuracy: 0.6800\n",
            "Epoch 48/50\n",
            "4/4 [==============================] - 0s 22ms/step - loss: 1.1988 - accuracy: 0.8557 - val_loss: 2.7745 - val_accuracy: 0.6800\n",
            "Epoch 49/50\n",
            "4/4 [==============================] - 0s 13ms/step - loss: 0.9432 - accuracy: 0.8454 - val_loss: 0.9125 - val_accuracy: 0.6800\n",
            "Epoch 50/50\n",
            "4/4 [==============================] - 0s 14ms/step - loss: 0.5329 - accuracy: 0.8557 - val_loss: 1.1542 - val_accuracy: 0.6800\n"
          ]
        },
        {
          "output_type": "execute_result",
          "data": {
            "text/plain": [
              "<keras.src.callbacks.History at 0x79d1d8de6230>"
            ]
          },
          "metadata": {},
          "execution_count": 91
        }
      ]
    },
    {
      "cell_type": "code",
      "source": [
        "# Evaluate the model\n",
        "loss, accuracy = model.evaluate(X_val, y_val)\n",
        "\n",
        "# Make predictions\n",
        "y_pred = model.predict(X_val)\n",
        "\n",
        "# Convert the predicted probabilities to binary predictions (0 or 1)\n",
        "y_pred_binary = (y_pred > 0.5).astype(int)\n",
        "\n",
        "# Calculate classification metrics\n",
        "from sklearn.metrics import accuracy_score, precision_score, recall_score, f1_score\n",
        "\n",
        "accuracy = accuracy_score(y_val, y_pred_binary)\n",
        "precision = precision_score(y_val, y_pred_binary)\n",
        "recall = recall_score(y_val, y_pred_binary)\n",
        "f1 = f1_score(y_val, y_pred_binary)\n",
        "\n",
        "print(\"Accuracy:\", accuracy)\n",
        "print(\"Precision:\", precision)\n",
        "print(\"Recall:\", recall)\n",
        "print(\"F1 Score:\", f1)\n"
      ],
      "metadata": {
        "colab": {
          "base_uri": "https://localhost:8080/"
        },
        "id": "IW5os1CKb0dW",
        "outputId": "64e8d611-86d0-4415-93fa-7c8a76328697"
      },
      "id": "IW5os1CKb0dW",
      "execution_count": 92,
      "outputs": [
        {
          "output_type": "stream",
          "name": "stdout",
          "text": [
            "1/1 [==============================] - 0s 113ms/step - loss: 1.1542 - accuracy: 0.6800\n",
            "1/1 [==============================] - 0s 211ms/step\n",
            "Accuracy: 0.68\n",
            "Precision: 0.68\n",
            "Recall: 1.0\n",
            "F1 Score: 0.8095238095238095\n"
          ]
        }
      ]
    },
    {
      "cell_type": "markdown",
      "source": [
        "* Successfully optained predictions from neural network model"
      ],
      "metadata": {
        "id": "mondvGg_dHzm"
      },
      "id": "mondvGg_dHzm"
    },
    {
      "cell_type": "code",
      "source": [
        "predictions = model.predict(new_data)\n"
      ],
      "metadata": {
        "colab": {
          "base_uri": "https://localhost:8080/"
        },
        "id": "Z_9PkXPsc4Vy",
        "outputId": "7abe87ae-fca9-46d8-dca4-b6c8de85b5a0"
      },
      "id": "Z_9PkXPsc4Vy",
      "execution_count": 93,
      "outputs": [
        {
          "output_type": "stream",
          "name": "stdout",
          "text": [
            "1/1 [==============================] - 0s 109ms/step\n"
          ]
        }
      ]
    },
    {
      "cell_type": "markdown",
      "source": [
        "**The threshold defines the boundary between the two classes and is used to make a binary decision based on the model's output**\n",
        "\n",
        "* If the predicted probability is below  0.9, the data point is classified as \"Full Shadow.\"\n",
        "* If the predicted probability is above 0.9, the data point is classified as \"No Shadow.\""
      ],
      "metadata": {
        "id": "YI7XylcPd3Aj"
      },
      "id": "YI7XylcPd3Aj"
    },
    {
      "cell_type": "markdown",
      "source": [
        "**demonstrate FULL shadow**"
      ],
      "metadata": {
        "id": "uzxSwg4QfZD6"
      },
      "id": "uzxSwg4QfZD6"
    },
    {
      "cell_type": "code",
      "source": [
        "threshold = 0.5\n",
        "\n",
        "# Predictions from the model\n",
        "predictions = model.predict(new_data)\n",
        "\n",
        "# Apply the threshold to classify predictions\n",
        "predicted_labels = (predictions >= threshold).astype(int)\n",
        "\n",
        "# Interpret the result\n",
        "if predicted_labels[0] == 1:\n",
        "    print(\"Predicted Shadow: Full Shadow\")\n",
        "else:\n",
        "    print(\"Predicted Shadow: No Shadow\")\n"
      ],
      "metadata": {
        "colab": {
          "base_uri": "https://localhost:8080/"
        },
        "id": "Huf3Z1MkdX-B",
        "outputId": "3bc6dd9e-c428-49d0-e2a4-5b77c7e1327d"
      },
      "id": "Huf3Z1MkdX-B",
      "execution_count": 97,
      "outputs": [
        {
          "output_type": "stream",
          "name": "stdout",
          "text": [
            "1/1 [==============================] - 0s 39ms/step\n",
            "Predicted Shadow: Full Shadow\n"
          ]
        }
      ]
    },
    {
      "cell_type": "markdown",
      "source": [
        "**Demonstrate NO Shadow**"
      ],
      "metadata": {
        "id": "lJmN0w5HfSS7"
      },
      "id": "lJmN0w5HfSS7"
    },
    {
      "cell_type": "code",
      "source": [
        "threshold = 3\n",
        "\n",
        "# Predictions from the model\n",
        "predictions = model.predict(new_data)\n",
        "\n",
        "# Apply the threshold to classify predictions\n",
        "predicted_labels = (predictions >= threshold).astype(int)\n",
        "\n",
        "# Interpret the result\n",
        "if predicted_labels[0]:\n",
        "    print(\"Predicted Shadow: Full Shadow\")\n",
        "else:\n",
        "    print(\"Predicted Shadow: No Shadow\")\n"
      ],
      "metadata": {
        "colab": {
          "base_uri": "https://localhost:8080/"
        },
        "id": "DEeZ8PzOeNKv",
        "outputId": "ebe792ac-8ec0-495b-cf08-3497b56661a1"
      },
      "id": "DEeZ8PzOeNKv",
      "execution_count": 108,
      "outputs": [
        {
          "output_type": "stream",
          "name": "stdout",
          "text": [
            "1/1 [==============================] - 0s 38ms/step\n",
            "Predicted Shadow: No Shadow\n"
          ]
        }
      ]
    },
    {
      "cell_type": "markdown",
      "source": [
        "# 5. Model Evaluation"
      ],
      "metadata": {
        "id": "-bxDUyoJHVvn"
      },
      "id": "-bxDUyoJHVvn"
    },
    {
      "cell_type": "markdown",
      "source": [
        "1. Make predictions"
      ],
      "metadata": {
        "id": "aGUeRTrzOnnr"
      },
      "id": "aGUeRTrzOnnr"
    },
    {
      "cell_type": "code",
      "source": [
        "y_pred = model.predict(X_val)\n"
      ],
      "metadata": {
        "id": "dSAV3eVOgtOk"
      },
      "id": "dSAV3eVOgtOk",
      "execution_count": 51,
      "outputs": []
    },
    {
      "cell_type": "markdown",
      "source": [
        "2. Calculate Metrics"
      ],
      "metadata": {
        "id": "MIlfHk7yOrNr"
      },
      "id": "MIlfHk7yOrNr"
    },
    {
      "cell_type": "code",
      "source": [
        "from sklearn.metrics import precision_score\n",
        "\n",
        "precision = precision_score(y_val, y_pred, average=None, zero_division=1)\n",
        "print(\"Precision for each class:\", precision)\n"
      ],
      "metadata": {
        "colab": {
          "base_uri": "https://localhost:8080/"
        },
        "id": "YW0kOkx_Otoi",
        "outputId": "9a125fa5-525c-4518-8fac-1f3b50be43d1"
      },
      "id": "YW0kOkx_Otoi",
      "execution_count": 54,
      "outputs": [
        {
          "output_type": "stream",
          "name": "stdout",
          "text": [
            "Precision for each class: [0.68 1.   1.   1.  ]\n"
          ]
        }
      ]
    },
    {
      "cell_type": "markdown",
      "source": [
        "3. Recall (Sensitivity) - measures the percentage of actual positive cases correctly predicted by the model"
      ],
      "metadata": {
        "id": "StRfBC0xQPrk"
      },
      "id": "StRfBC0xQPrk"
    },
    {
      "cell_type": "code",
      "source": [
        "from sklearn.metrics import recall_score\n",
        "\n",
        "recall = recall_score(y_val, y_pred, average=None)\n",
        "print(\"Recall for each class:\", recall)\n"
      ],
      "metadata": {
        "colab": {
          "base_uri": "https://localhost:8080/"
        },
        "id": "JFXaoV7eQXg-",
        "outputId": "cebed224-efe2-4d03-93ef-beb90382e556"
      },
      "id": "JFXaoV7eQXg-",
      "execution_count": 55,
      "outputs": [
        {
          "output_type": "stream",
          "name": "stdout",
          "text": [
            "Recall for each class: [1. 0. 0. 0.]\n"
          ]
        }
      ]
    },
    {
      "cell_type": "markdown",
      "source": [
        "4. F1-Score - harmonic mean of precision and recall and is often used to balance the trade-off between precision and recall"
      ],
      "metadata": {
        "id": "hApf-iZXQb3p"
      },
      "id": "hApf-iZXQb3p"
    },
    {
      "cell_type": "code",
      "source": [
        "from sklearn.metrics import f1_score\n",
        "\n",
        "f1 = f1_score(y_val, y_pred, average=None)\n",
        "print(\"F1-Score for each class:\", f1)\n"
      ],
      "metadata": {
        "colab": {
          "base_uri": "https://localhost:8080/"
        },
        "id": "P5IcvAcnQlQ-",
        "outputId": "5b8a4259-61f1-455f-8bb9-336db829fc2e"
      },
      "id": "P5IcvAcnQlQ-",
      "execution_count": 56,
      "outputs": [
        {
          "output_type": "stream",
          "name": "stdout",
          "text": [
            "F1-Score for each class: [0.80952381 0.         0.         0.        ]\n"
          ]
        }
      ]
    },
    {
      "cell_type": "code",
      "source": [
        "from sklearn.model_selection import GridSearchCV\n",
        "\n",
        "param_grid = {\n",
        "    'n_estimators': [50, 100, 200],\n",
        "    'max_depth': [None, 10, 20, 30],\n",
        "    'min_samples_split': [2, 5, 10],\n",
        "    'min_samples_leaf': [1, 2, 4]\n",
        "}\n",
        "\n",
        "grid_search = GridSearchCV(estimator=RandomForestClassifier(random_state=42), param_grid=param_grid, cv=5, scoring='accuracy')\n",
        "grid_search.fit(X_train, y_train)\n",
        "\n",
        "# Get the best hyperparameters\n",
        "best_params = grid_search.best_params_\n",
        "print(\"Best hyperparameters:\", best_params)\n",
        "\n",
        "# Train the final model with the best hyperparameters\n",
        "best_model = grid_search.best_estimator_\n",
        "best_model.fit(X_train, y_train)\n"
      ],
      "metadata": {
        "colab": {
          "base_uri": "https://localhost:8080/",
          "height": 146
        },
        "id": "l9T-zxhuRt_F",
        "outputId": "486a1936-00c8-4bc2-b5d6-6a46691b40e3"
      },
      "id": "l9T-zxhuRt_F",
      "execution_count": 59,
      "outputs": [
        {
          "output_type": "stream",
          "name": "stderr",
          "text": [
            "/usr/local/lib/python3.10/dist-packages/sklearn/model_selection/_split.py:700: UserWarning: The least populated class in y has only 4 members, which is less than n_splits=5.\n",
            "  warnings.warn(\n"
          ]
        },
        {
          "output_type": "stream",
          "name": "stdout",
          "text": [
            "Best hyperparameters: {'max_depth': None, 'min_samples_leaf': 2, 'min_samples_split': 2, 'n_estimators': 200}\n"
          ]
        },
        {
          "output_type": "execute_result",
          "data": {
            "text/plain": [
              "RandomForestClassifier(min_samples_leaf=2, n_estimators=200, random_state=42)"
            ],
            "text/html": [
              "<style>#sk-container-id-5 {color: black;background-color: white;}#sk-container-id-5 pre{padding: 0;}#sk-container-id-5 div.sk-toggleable {background-color: white;}#sk-container-id-5 label.sk-toggleable__label {cursor: pointer;display: block;width: 100%;margin-bottom: 0;padding: 0.3em;box-sizing: border-box;text-align: center;}#sk-container-id-5 label.sk-toggleable__label-arrow:before {content: \"▸\";float: left;margin-right: 0.25em;color: #696969;}#sk-container-id-5 label.sk-toggleable__label-arrow:hover:before {color: black;}#sk-container-id-5 div.sk-estimator:hover label.sk-toggleable__label-arrow:before {color: black;}#sk-container-id-5 div.sk-toggleable__content {max-height: 0;max-width: 0;overflow: hidden;text-align: left;background-color: #f0f8ff;}#sk-container-id-5 div.sk-toggleable__content pre {margin: 0.2em;color: black;border-radius: 0.25em;background-color: #f0f8ff;}#sk-container-id-5 input.sk-toggleable__control:checked~div.sk-toggleable__content {max-height: 200px;max-width: 100%;overflow: auto;}#sk-container-id-5 input.sk-toggleable__control:checked~label.sk-toggleable__label-arrow:before {content: \"▾\";}#sk-container-id-5 div.sk-estimator input.sk-toggleable__control:checked~label.sk-toggleable__label {background-color: #d4ebff;}#sk-container-id-5 div.sk-label input.sk-toggleable__control:checked~label.sk-toggleable__label {background-color: #d4ebff;}#sk-container-id-5 input.sk-hidden--visually {border: 0;clip: rect(1px 1px 1px 1px);clip: rect(1px, 1px, 1px, 1px);height: 1px;margin: -1px;overflow: hidden;padding: 0;position: absolute;width: 1px;}#sk-container-id-5 div.sk-estimator {font-family: monospace;background-color: #f0f8ff;border: 1px dotted black;border-radius: 0.25em;box-sizing: border-box;margin-bottom: 0.5em;}#sk-container-id-5 div.sk-estimator:hover {background-color: #d4ebff;}#sk-container-id-5 div.sk-parallel-item::after {content: \"\";width: 100%;border-bottom: 1px solid gray;flex-grow: 1;}#sk-container-id-5 div.sk-label:hover label.sk-toggleable__label {background-color: #d4ebff;}#sk-container-id-5 div.sk-serial::before {content: \"\";position: absolute;border-left: 1px solid gray;box-sizing: border-box;top: 0;bottom: 0;left: 50%;z-index: 0;}#sk-container-id-5 div.sk-serial {display: flex;flex-direction: column;align-items: center;background-color: white;padding-right: 0.2em;padding-left: 0.2em;position: relative;}#sk-container-id-5 div.sk-item {position: relative;z-index: 1;}#sk-container-id-5 div.sk-parallel {display: flex;align-items: stretch;justify-content: center;background-color: white;position: relative;}#sk-container-id-5 div.sk-item::before, #sk-container-id-5 div.sk-parallel-item::before {content: \"\";position: absolute;border-left: 1px solid gray;box-sizing: border-box;top: 0;bottom: 0;left: 50%;z-index: -1;}#sk-container-id-5 div.sk-parallel-item {display: flex;flex-direction: column;z-index: 1;position: relative;background-color: white;}#sk-container-id-5 div.sk-parallel-item:first-child::after {align-self: flex-end;width: 50%;}#sk-container-id-5 div.sk-parallel-item:last-child::after {align-self: flex-start;width: 50%;}#sk-container-id-5 div.sk-parallel-item:only-child::after {width: 0;}#sk-container-id-5 div.sk-dashed-wrapped {border: 1px dashed gray;margin: 0 0.4em 0.5em 0.4em;box-sizing: border-box;padding-bottom: 0.4em;background-color: white;}#sk-container-id-5 div.sk-label label {font-family: monospace;font-weight: bold;display: inline-block;line-height: 1.2em;}#sk-container-id-5 div.sk-label-container {text-align: center;}#sk-container-id-5 div.sk-container {/* jupyter's `normalize.less` sets `[hidden] { display: none; }` but bootstrap.min.css set `[hidden] { display: none !important; }` so we also need the `!important` here to be able to override the default hidden behavior on the sphinx rendered scikit-learn.org. See: https://github.com/scikit-learn/scikit-learn/issues/21755 */display: inline-block !important;position: relative;}#sk-container-id-5 div.sk-text-repr-fallback {display: none;}</style><div id=\"sk-container-id-5\" class=\"sk-top-container\"><div class=\"sk-text-repr-fallback\"><pre>RandomForestClassifier(min_samples_leaf=2, n_estimators=200, random_state=42)</pre><b>In a Jupyter environment, please rerun this cell to show the HTML representation or trust the notebook. <br />On GitHub, the HTML representation is unable to render, please try loading this page with nbviewer.org.</b></div><div class=\"sk-container\" hidden><div class=\"sk-item\"><div class=\"sk-estimator sk-toggleable\"><input class=\"sk-toggleable__control sk-hidden--visually\" id=\"sk-estimator-id-5\" type=\"checkbox\" checked><label for=\"sk-estimator-id-5\" class=\"sk-toggleable__label sk-toggleable__label-arrow\">RandomForestClassifier</label><div class=\"sk-toggleable__content\"><pre>RandomForestClassifier(min_samples_leaf=2, n_estimators=200, random_state=42)</pre></div></div></div></div></div>"
            ]
          },
          "metadata": {},
          "execution_count": 59
        }
      ]
    },
    {
      "cell_type": "markdown",
      "source": [
        "* Based on the model's prediction, the result is 'Full Shadow'"
      ],
      "metadata": {
        "id": "hR3nqZldUJ3-"
      },
      "id": "hR3nqZldUJ3-"
    },
    {
      "cell_type": "code",
      "source": [
        "new_data = pd.DataFrame({\n",
        "    'Year': [2023],\n",
        "    'February Average Temperature': [40.0],\n",
        "    'February Average Temperature (Northeast)': [38.0],\n",
        "    'February Average Temperature (Midwest)': [42.0],\n",
        "    'February Average Temperature (Pennsylvania)': [41.0],\n",
        "    'March Average Temperature': [45.0],\n",
        "    'March Average Temperature (Northeast)': [43.0],\n",
        "    'March Average Temperature (Midwest)': [47.0],\n",
        "    'March Average Temperature (Pennsylvania)': [46.0]\n",
        "})\n",
        "\n",
        "predicted_class = model.predict(new_data)\n",
        "\n",
        "print(\"Predicted Shadow:\", predicted_class[0])\n"
      ],
      "metadata": {
        "colab": {
          "base_uri": "https://localhost:8080/"
        },
        "id": "AR1l27CITGt3",
        "outputId": "a5d9eff7-4a76-454e-f863-bc1938e84754"
      },
      "id": "AR1l27CITGt3",
      "execution_count": 64,
      "outputs": [
        {
          "output_type": "stream",
          "name": "stdout",
          "text": [
            "Predicted Shadow: Full Shadow\n"
          ]
        }
      ]
    },
    {
      "cell_type": "markdown",
      "source": [
        "# Saving and Loading Models with Joblib"
      ],
      "metadata": {
        "id": "h63pRmlkWNo8"
      },
      "id": "h63pRmlkWNo8"
    },
    {
      "cell_type": "code",
      "source": [
        "\n",
        "# export model for API\n",
        "import joblib\n",
        "\n",
        "# Save the trained model to a file\n",
        "joblib.dump(model, 'groundHog_model.pkl')\n",
        "\n"
      ],
      "metadata": {
        "colab": {
          "base_uri": "https://localhost:8080/"
        },
        "id": "HtxVF0dIfsrI",
        "outputId": "dc091d3d-680e-4064-885a-b9d3441e8398"
      },
      "id": "HtxVF0dIfsrI",
      "execution_count": 112,
      "outputs": [
        {
          "output_type": "execute_result",
          "data": {
            "text/plain": [
              "['groundHog_model.pkl']"
            ]
          },
          "metadata": {},
          "execution_count": 112
        }
      ]
    },
    {
      "cell_type": "markdown",
      "source": [
        "**If you you want to load the trained model using 'joblib.load()' function:**"
      ],
      "metadata": {
        "id": "4jQPMcB4f73Y"
      },
      "id": "4jQPMcB4f73Y"
    },
    {
      "cell_type": "code",
      "source": [
        "# Load the trained model from the saved file\n",
        "# loaded_model = joblib.load('your_model_filename.pkl')"
      ],
      "metadata": {
        "id": "VO-djnF0gFQh"
      },
      "id": "VO-djnF0gFQh",
      "execution_count": null,
      "outputs": []
    },
    {
      "cell_type": "code",
      "source": [
        "dir\n"
      ],
      "metadata": {
        "colab": {
          "base_uri": "https://localhost:8080/"
        },
        "id": "OXzaBr7YpIdI",
        "outputId": "d7e91bbb-96cb-47b8-fd64-4bd779898de0"
      },
      "id": "OXzaBr7YpIdI",
      "execution_count": 113,
      "outputs": [
        {
          "output_type": "execute_result",
          "data": {
            "text/plain": [
              "<function dir>"
            ]
          },
          "metadata": {},
          "execution_count": 113
        }
      ]
    }
  ],
  "metadata": {
    "kernelspec": {
      "display_name": "Python 3 (ipykernel)",
      "language": "python",
      "name": "python3"
    },
    "language_info": {
      "codemirror_mode": {
        "name": "ipython",
        "version": 3
      },
      "file_extension": ".py",
      "mimetype": "text/x-python",
      "name": "python",
      "nbconvert_exporter": "python",
      "pygments_lexer": "ipython3",
      "version": "3.11.4"
    },
    "colab": {
      "provenance": [],
      "collapsed_sections": [
        "Z2yQz4ZxqzoU",
        "6SJwTlICqlBV",
        "_ie8mo0UDHyu",
        "FYYXhUwFDtoe",
        "FCYClQFiYtxu",
        "-bxDUyoJHVvn"
      ]
    }
  },
  "nbformat": 4,
  "nbformat_minor": 5
}